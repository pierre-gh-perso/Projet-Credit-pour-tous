{
 "cells": [
  {
   "cell_type": "code",
   "execution_count": 1,
   "id": "4bcbbce7",
   "metadata": {},
   "outputs": [],
   "source": [
    "import pandas as pd"
   ]
  },
  {
   "cell_type": "code",
   "execution_count": 7,
   "id": "58c8f98d",
   "metadata": {},
   "outputs": [
    {
     "name": "stdout",
     "output_type": "stream",
     "text": [
      "Comparaison des mensualités :\n",
      "        installment_divided  monthly_payment_calculated  percentage_difference\n",
      "0                    3294.8                 3294.747814              -0.001584\n",
      "1                    2656.8                 2656.762705              -0.001404\n",
      "2                    5069.7                 5069.645631              -0.001072\n",
      "3                    2206.5                 2206.400507              -0.004509\n",
      "4                    6093.3                 6093.258624              -0.000679\n",
      "...                     ...                         ...                    ...\n",
      "396025               2173.8                 2173.743632              -0.002593\n",
      "396026               7004.2                 7004.127849              -0.001030\n",
      "396027               1613.2                 1613.124623              -0.004673\n",
      "396028               5030.2                 5030.122114              -0.001548\n",
      "396029                679.8                  679.770326              -0.004365\n",
      "\n",
      "[396030 rows x 3 columns]\n",
      "\n",
      "Statistiques de l'écart en pourcentage :\n",
      "Maximum d'écart : 2299.96%\n",
      "Minimum d'écart : -40.38%\n",
      "Moyenne d'écart : 85.07%\n",
      "Écart type de l'écart : 264.37%\n"
     ]
    }
   ],
   "source": [
    "# 🔹 Chemins\n",
    "input_path = \"../../data/cleaning/step1_typed.parquet\"\n",
    "\n",
    "# 🔹 Chargement des données\n",
    "df = pd.read_parquet(input_path)\n",
    "\n",
    "# Définir les variables à partir des colonnes du DataFrame\n",
    "M = df['loan_amnt']\n",
    "t_pourcentage = df['int_rate']\n",
    "n = df['term']\n",
    "\n",
    "# Convertir le taux d'intérêt de pourcentage à décimal et en taux mensuel\n",
    "t = (t_pourcentage / 100) / 12\n",
    "\n",
    "# Calculer le montant de chaque mensualité (m)\n",
    "m = (M * t) / (1 - (1 + t)**(-n))\n",
    "\n",
    "# Ajouter la colonne des mensualités calculées au DataFrame\n",
    "df['monthly_payment_calculated'] = m\n",
    "\n",
    "# Diviser la colonne 'installment' par 10\n",
    "df['installment_divided'] = df['installment'] / 10\n",
    "\n",
    "# Calculer l'écart en pourcentage entre les deux colonnes\n",
    "df['percentage_difference'] = ((df['monthly_payment_calculated'] - df['installment_divided']) / df['installment_divided']) * 100\n",
    "\n",
    "# Afficher les deux colonnes finales côte à côte\n",
    "print(\"Comparaison des mensualités :\")\n",
    "print(df[['installment_divided', 'monthly_payment_calculated','percentage_difference']])\n",
    "\n",
    "# Calculer et afficher les statistiques de l'écart en pourcentage\n",
    "max_difference = df['percentage_difference'].max()\n",
    "min_difference = df['percentage_difference'].min()\n",
    "mean_difference = df['percentage_difference'].mean()\n",
    "std_difference = df['percentage_difference'].std()\n",
    "\n",
    "print(\"\\nStatistiques de l'écart en pourcentage :\")\n",
    "print(f\"Maximum d'écart : {max_difference:.2f}%\")\n",
    "print(f\"Minimum d'écart : {min_difference:.2f}%\")\n",
    "print(f\"Moyenne d'écart : {mean_difference:.2f}%\")\n",
    "print(f\"Écart type de l'écart : {std_difference:.2f}%\")"
   ]
  },
  {
   "cell_type": "code",
   "execution_count": 9,
   "id": "7df41fc3",
   "metadata": {},
   "outputs": [
    {
     "name": "stdout",
     "output_type": "stream",
     "text": [
      "Lignes avec un écart en pourcentage supérieur à 5% en valeur absolue :\n",
      "        installment  installment_divided  monthly_payment_calculated  \\\n",
      "9              9284                928.4                 9283.998464   \n",
      "12             2391                239.1                 2390.918392   \n",
      "13             7837                783.7                 7836.945052   \n",
      "15             5673                567.3                 5672.986514   \n",
      "18           106387              10638.7                 9559.911488   \n",
      "...             ...                  ...                         ...   \n",
      "396007        52588               5258.8                 4268.938703   \n",
      "396008         4261                426.1                 4260.974529   \n",
      "396010        31754               3175.4                 2816.056034   \n",
      "396012         8638                863.8                 6722.801867   \n",
      "396015         1275                127.5                 1274.970041   \n",
      "\n",
      "        percentage_difference  \n",
      "9                  899.999835  \n",
      "12                 899.965869  \n",
      "13                 899.992989  \n",
      "15                 899.997623  \n",
      "18                 -10.140229  \n",
      "...                       ...  \n",
      "396007             -18.822950  \n",
      "396008             899.994022  \n",
      "396010             -11.316494  \n",
      "396012             678.282226  \n",
      "396015             899.976503  \n",
      "\n",
      "[72492 rows x 4 columns]\n",
      "\n",
      "Nombre de lignes avec un grand écart : 72492\n"
     ]
    }
   ],
   "source": [
    "# Définir un seuil pour identifier les grands écarts (vous pouvez ajuster ce seuil)\n",
    "threshold_large_percentage = 5  # Exemple : écart de plus de 5% en valeur absolue\n",
    "\n",
    "# Isoler les lignes où l'écart en pourcentage dépasse le seuil de grand écart\n",
    "grand_ecart_rows = df[abs(df['percentage_difference']) > threshold_large_percentage]\n",
    "\n",
    "# Afficher les lignes avec un grand écart en pourcentage\n",
    "print(f\"Lignes avec un écart en pourcentage supérieur à {threshold_large_percentage}% en valeur absolue :\")\n",
    "print(grand_ecart_rows[['installment', 'installment_divided', 'monthly_payment_calculated', 'percentage_difference']])\n",
    "\n",
    "# Vous pouvez également afficher le nombre de ces lignes\n",
    "print(\"\\nNombre de lignes avec un grand écart :\", len(grand_ecart_rows))"
   ]
  }
 ],
 "metadata": {
  "kernelspec": {
   "display_name": ".venv",
   "language": "python",
   "name": "python3"
  },
  "language_info": {
   "codemirror_mode": {
    "name": "ipython",
    "version": 3
   },
   "file_extension": ".py",
   "mimetype": "text/x-python",
   "name": "python",
   "nbconvert_exporter": "python",
   "pygments_lexer": "ipython3",
   "version": "3.12.1"
  }
 },
 "nbformat": 4,
 "nbformat_minor": 5
}
