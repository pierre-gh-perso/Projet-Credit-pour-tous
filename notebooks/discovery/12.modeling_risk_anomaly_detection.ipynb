{
 "cells": [
  {
   "cell_type": "code",
   "execution_count": 1,
   "id": "faee9231",
   "metadata": {},
   "outputs": [
    {
     "name": "stdout",
     "output_type": "stream",
     "text": [
      "--- Entraînement du nouveau Modèle 1 : Détection d'Anomalies ---\n",
      "Entraînement du modèle en cours...\n",
      "✅ Modèle Isolation Forest entraîné.\n",
      "✅ Nouveau Modèle 1 sauvegardé dans : ../../models/model_1_anomaly_detection.pkl\n"
     ]
    }
   ],
   "source": [
    "import pandas as pd\n",
    "import joblib\n",
    "from sklearn.ensemble import IsolationForest\n",
    "\n",
    "print(\"--- Entraînement du nouveau Modèle 1 : Détection d'Anomalies ---\")\n",
    "\n",
    "# --- 1. Chargement et Préparation des Données ---\n",
    "input_path = \"../../data/processed/dataset_clean_no_outliers.parquet\"\n",
    "df = pd.read_parquet(input_path)\n",
    "\n",
    "# On utilise les mêmes features que pour votre meilleur modèle de risque\n",
    "# (la préparation doit être identique)\n",
    "features_to_exclude = [\n",
    "    'loan_status', 'is_default', 'id', 'grade', 'sub_grade', 'int_rate', 'installment', \n",
    "    'last_pymnt_d', 'emp_title', 'emp_title_clean', 'title', 'zip_code', \n",
    "    'job_category', 'csp_category', 'issue_d', 'earliest_cr_line'\n",
    "]\n",
    "X_train = df.drop(columns=features_to_exclude, errors='ignore')\n",
    "X_train = pd.get_dummies(X_train, drop_first=True, dtype=float)\n",
    "\n",
    "# Sauvegarde des colonnes pour l'application\n",
    "joblib.dump(X_train.columns.tolist(), \"../../models/model_1_anomaly_columns.pkl\")\n",
    "\n",
    "\n",
    "# --- 2. Entraînement de l'Isolation Forest ---\n",
    "# Le paramètre 'contamination' indique la proportion attendue d'anomalies (clients risqués). \n",
    "# On peut commencer avec une estimation (ex: 20% des prêts acceptés finissent en défaut).\n",
    "iso_forest = IsolationForest(\n",
    "    n_estimators=200, \n",
    "    contamination=0.20, \n",
    "    random_state=42, \n",
    "    n_jobs=-1\n",
    ")\n",
    "\n",
    "print(\"Entraînement du modèle en cours...\")\n",
    "iso_forest.fit(X_train)\n",
    "print(\"✅ Modèle Isolation Forest entraîné.\")\n",
    "\n",
    "\n",
    "# --- 3. Sauvegarde du nouveau Modèle 1 ---\n",
    "model_1_path = \"../../models/model_1_anomaly_detection.pkl\"\n",
    "joblib.dump(iso_forest, model_1_path)\n",
    "print(f\"✅ Nouveau Modèle 1 sauvegardé dans : {model_1_path}\")"
   ]
  }
 ],
 "metadata": {
  "kernelspec": {
   "display_name": ".venv",
   "language": "python",
   "name": "python3"
  },
  "language_info": {
   "codemirror_mode": {
    "name": "ipython",
    "version": 3
   },
   "file_extension": ".py",
   "mimetype": "text/x-python",
   "name": "python",
   "nbconvert_exporter": "python",
   "pygments_lexer": "ipython3",
   "version": "3.12.1"
  }
 },
 "nbformat": 4,
 "nbformat_minor": 5
}
