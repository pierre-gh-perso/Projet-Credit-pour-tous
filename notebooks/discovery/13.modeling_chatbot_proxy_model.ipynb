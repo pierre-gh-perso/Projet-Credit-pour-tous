{
 "cells": [
  {
   "cell_type": "code",
   "execution_count": 1,
   "id": "b5067a63",
   "metadata": {},
   "outputs": [
    {
     "name": "stdout",
     "output_type": "stream",
     "text": [
      "--- Entraînement du Modèle Proxy Final pour le Chatbot ---\n",
      "✅ Données et modèle expert chargés.\n",
      "✅ Cible (scores de l'expert) générée.\n",
      "Préparation des features pour le proxy...\n",
      "Entraînement du modèle proxy final...\n"
     ]
    },
    {
     "name": "stderr",
     "output_type": "stream",
     "text": [
      "C:\\Users\\Pierre\\AppData\\Local\\Temp\\ipykernel_15716\\4226198157.py:46: FutureWarning: A value is trying to be set on a copy of a DataFrame or Series through chained assignment using an inplace method.\n",
      "The behavior will change in pandas 3.0. This inplace method will never work because the intermediate object on which we are setting values always behaves as a copy.\n",
      "\n",
      "For example, when doing 'df[col].method(value, inplace=True)', try using 'df.method({col: value}, inplace=True)' or df[col] = df[col].method(value) instead, to perform the operation inplace on the original object.\n",
      "\n",
      "\n",
      "  df['loan_to_income_ratio'].replace([float('inf'), -float('inf')], 0, inplace=True)\n",
      "C:\\Users\\Pierre\\AppData\\Local\\Temp\\ipykernel_15716\\4226198157.py:48: FutureWarning: A value is trying to be set on a copy of a DataFrame or Series through chained assignment using an inplace method.\n",
      "The behavior will change in pandas 3.0. This inplace method will never work because the intermediate object on which we are setting values always behaves as a copy.\n",
      "\n",
      "For example, when doing 'df[col].method(value, inplace=True)', try using 'df.method({col: value}, inplace=True)' or df[col] = df[col].method(value) instead, to perform the operation inplace on the original object.\n",
      "\n",
      "\n",
      "  df['revolving_to_income_ratio'].replace([float('inf'), -float('inf')], 0, inplace=True)\n"
     ]
    },
    {
     "name": "stdout",
     "output_type": "stream",
     "text": [
      "✅ Modèle proxy final entraîné.\n",
      "✅ Modèle proxy final et ses colonnes sauvegardés.\n"
     ]
    }
   ],
   "source": [
    "# Fichier : 13.modeling_chatbot_proxy_model.ipynb\n",
    "# VERSION FINALE ET DÉFINITIVE\n",
    "\n",
    "import pandas as pd\n",
    "import lightgbm as lgb\n",
    "import joblib\n",
    "import os\n",
    "\n",
    "print(\"--- Entraînement du Modèle Proxy Final pour le Chatbot ---\")\n",
    "\n",
    "# --- 1. Chargement des données et du modèle expert ---\n",
    "input_path = \"../../data/processed/dataset_clean_no_outliers.parquet\"\n",
    "model_expert_path = \"../../models/model_risk_of_default.pkl\"\n",
    "model_expert_cols_path = \"../../models/model_1_columns.pkl\"\n",
    "\n",
    "df = pd.read_parquet(input_path)\n",
    "model_expert = joblib.load(model_expert_path)\n",
    "model_expert_columns = joblib.load(model_expert_cols_path)\n",
    "print(\"✅ Données et modèle expert chargés.\")\n",
    "\n",
    "\n",
    "# --- 2. Calcul des scores \"vérité\" avec le modèle expert ---\n",
    "# On fait le feature engineering nécessaire pour le modèle expert\n",
    "df['issue_d'] = pd.to_datetime(df['issue_d'])\n",
    "df['earliest_cr_line'] = pd.to_datetime(df['earliest_cr_line'])\n",
    "df['credit_history_length'] = (df['issue_d'] - df['earliest_cr_line']).dt.days\n",
    "\n",
    "# Préparation des données complètes pour l'expert\n",
    "features_to_exclude = [\n",
    "    'loan_status', 'is_default', 'id', 'grade', 'sub_grade', 'int_rate', 'installment', 'last_pymnt_d',\n",
    "    'emp_title', 'emp_title_clean', 'title', 'zip_code', 'job_category', 'csp_category', \n",
    "    'issue_d', 'earliest_cr_line'\n",
    "]\n",
    "X_expert = df.drop(columns=features_to_exclude, errors='ignore')\n",
    "X_expert = pd.get_dummies(X_expert, drop_first=True, dtype=float)\n",
    "X_expert = X_expert.reindex(columns=model_expert_columns, fill_value=0)\n",
    "\n",
    "y_target = model_expert.predict_proba(X_expert)[:, 1]\n",
    "print(\"✅ Cible (scores de l'expert) générée.\")\n",
    "\n",
    "\n",
    "# --- 3. Préparation des features pour le modèle proxy (doit refléter l'app) ---\n",
    "print(\"Préparation des features pour le proxy...\")\n",
    "# On crée les ratios, car l'app les calcule aussi\n",
    "df['loan_to_income_ratio'] = df['loan_amnt'] / df['annual_inc']\n",
    "df['loan_to_income_ratio'].replace([float('inf'), -float('inf')], 0, inplace=True)\n",
    "df['revolving_to_income_ratio'] = df['revol_bal'] / df['annual_inc']\n",
    "df['revolving_to_income_ratio'].replace([float('inf'), -float('inf')], 0, inplace=True)\n",
    "\n",
    "# Sélection des features EXACTES du formulaire Streamlit\n",
    "features_for_proxy = [\n",
    "    'loan_amnt', 'annual_inc', 'dti', 'revol_bal', 'revol_util', 'emp_length',\n",
    "    'home_ownership', 'purpose', 'total_acc', 'open_acc', 'mort_acc', 'pub_rec',\n",
    "    'pub_rec_bankruptcies', 'credit_history_length', 'loan_to_income_ratio',\n",
    "    'revolving_to_income_ratio'\n",
    "]\n",
    "df['term'] = 36.0 # Champ fixe dans l'app\n",
    "df['verification_status'] = 'Verified' # Champ fixe dans l'app\n",
    "features_for_proxy.extend(['term', 'verification_status'])\n",
    "\n",
    "X_proxy = df[features_for_proxy]\n",
    "X_proxy = pd.get_dummies(X_proxy, drop_first=True, dtype=float)\n",
    "\n",
    "\n",
    "# --- 4. Entraînement et Sauvegarde du modèle proxy final ---\n",
    "proxy_model = lgb.LGBMRegressor(random_state=42)\n",
    "print(\"Entraînement du modèle proxy final...\")\n",
    "proxy_model.fit(X_proxy, y_target)\n",
    "print(\"✅ Modèle proxy final entraîné.\")\n",
    "\n",
    "proxy_model_path = \"../../models/chatbot_proxy_model.pkl\"\n",
    "proxy_model_cols_path = \"../../models/chatbot_proxy_model_columns.pkl\"\n",
    "joblib.dump(proxy_model, proxy_model_path)\n",
    "joblib.dump(X_proxy.columns.tolist(), proxy_model_cols_path)\n",
    "print(f\"✅ Modèle proxy final et ses colonnes sauvegardés.\")"
   ]
  }
 ],
 "metadata": {
  "kernelspec": {
   "display_name": ".venv",
   "language": "python",
   "name": "python3"
  },
  "language_info": {
   "codemirror_mode": {
    "name": "ipython",
    "version": 3
   },
   "file_extension": ".py",
   "mimetype": "text/x-python",
   "name": "python",
   "nbconvert_exporter": "python",
   "pygments_lexer": "ipython3",
   "version": "3.12.1"
  }
 },
 "nbformat": 4,
 "nbformat_minor": 5
}
