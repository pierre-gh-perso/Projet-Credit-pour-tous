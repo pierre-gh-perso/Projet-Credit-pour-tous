{
 "cells": [
  {
   "cell_type": "code",
   "execution_count": 1,
   "id": "ed297e57",
   "metadata": {},
   "outputs": [
    {
     "name": "stdout",
     "output_type": "stream",
     "text": [
      "--- Entraînement du Modèle de Risque NEUTRE (pour calibration) ---\n",
      "Entraînement du modèle neutre...\n",
      "[LightGBM] [Warning] Found whitespace in feature_names, replace with underlines\n",
      "[LightGBM] [Info] Number of positive: 56440, number of negative: 236531\n",
      "[LightGBM] [Info] Auto-choosing row-wise multi-threading, the overhead of testing was 0.007484 seconds.\n",
      "You can set `force_row_wise=true` to remove the overhead.\n",
      "And if memory is not enough, you can set `force_col_wise=true`.\n",
      "[LightGBM] [Info] Total Bins 1529\n",
      "[LightGBM] [Info] Number of data points in the train set: 292971, number of used features: 31\n",
      "[LightGBM] [Info] [binary:BoostFromScore]: pavg=0.192647 -> initscore=-1.432901\n",
      "[LightGBM] [Info] Start training from score -1.432901\n",
      "✅ Modèle de risque neutre entraîné.\n",
      "\n",
      "✅ Modèle neutre sauvegardé dans : ../../models/step1_risk_model_NEUTRAL.pkl\n"
     ]
    }
   ],
   "source": [
    "import pandas as pd\n",
    "import lightgbm as lgb\n",
    "import joblib\n",
    "import os\n",
    "from sklearn.model_selection import train_test_split\n",
    "\n",
    "print(\"--- Entraînement du Modèle de Risque NEUTRE (pour calibration) ---\")\n",
    "\n",
    "# --- 1. Chargement et Préparation ---\n",
    "input_path = \"../../data/processed/dataset_clean_no_outliers.parquet\"\n",
    "output_dir = \"../../models/\"\n",
    "df = pd.read_parquet(input_path)\n",
    "df['is_default'] = df['loan_status'].apply(lambda x: 1 if x == 'Charged Off' else 0)\n",
    "\n",
    "# --- 2. Sélection des Variables ---\n",
    "selected_features = [\n",
    "    'term', 'annual_inc', 'dti', 'revol_util', 'revol_bal', 'loan_amnt', \n",
    "    'emp_length', 'home_ownership', 'purpose', 'verification_status', \n",
    "    'mort_acc', 'pub_rec', 'open_acc', 'total_acc'\n",
    "]\n",
    "X = df[selected_features]\n",
    "y = df['is_default']\n",
    "X = pd.get_dummies(X, drop_first=True, dtype=float)\n",
    "\n",
    "# --- 3. Division et Entraînement ---\n",
    "X_train, X_test, y_train, y_test = train_test_split(X, y, test_size=0.2, random_state=42, stratify=y)\n",
    "\n",
    "# LA MODIFICATION CLÉ : On retire 'scale_pos_weight' pour un modèle non biaisé\n",
    "model_1_neutral = lgb.LGBMClassifier(objective='binary', metric='auc', random_state=42)\n",
    "\n",
    "print(\"Entraînement du modèle neutre...\")\n",
    "model_1_neutral.fit(X_train, y_train)\n",
    "print(\"✅ Modèle de risque neutre entraîné.\")\n",
    "\n",
    "# --- 4. Sauvegarde ---\n",
    "# On le sauvegarde sous un nouveau nom pour ne pas écraser l'ancien\n",
    "model_path = os.path.join(output_dir, \"step1_risk_model_NEUTRAL.pkl\")\n",
    "joblib.dump(model_1_neutral, model_path)\n",
    "print(f\"\\n✅ Modèle neutre sauvegardé dans : {model_path}\")"
   ]
  }
 ],
 "metadata": {
  "kernelspec": {
   "display_name": ".venv",
   "language": "python",
   "name": "python3"
  },
  "language_info": {
   "codemirror_mode": {
    "name": "ipython",
    "version": 3
   },
   "file_extension": ".py",
   "mimetype": "text/x-python",
   "name": "python",
   "nbconvert_exporter": "python",
   "pygments_lexer": "ipython3",
   "version": "3.12.1"
  }
 },
 "nbformat": 4,
 "nbformat_minor": 5
}
