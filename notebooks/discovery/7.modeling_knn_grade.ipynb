{
 "cells": [
  {
   "cell_type": "code",
   "execution_count": 1,
   "id": "f087da24",
   "metadata": {},
   "outputs": [],
   "source": [
    "import pandas as pd\n",
    "import numpy as np\n",
    "import matplotlib.pyplot as plt\n",
    "import seaborn as sns\n",
    "\n",
    "from sklearn.model_selection import train_test_split\n",
    "from sklearn.preprocessing import StandardScaler\n",
    "from sklearn.neighbors import KNeighborsClassifier\n",
    "from sklearn.metrics import accuracy_score, confusion_matrix, classification_report"
   ]
  },
  {
   "cell_type": "code",
   "execution_count": null,
   "id": "f6be67c0",
   "metadata": {},
   "outputs": [
    {
     "name": "stdout",
     "output_type": "stream",
     "text": [
      "✅ Jeu d'entraînement : (256204, 12)\n",
      "✅ Jeu de test : (109803, 12)\n"
     ]
    }
   ],
   "source": [
    "# 🔹 Chargement des données\n",
    "input_path = \"../../data/processed/dataset_clean_no_outliers.parquet\"\n",
    "df = pd.read_parquet(input_path)\n",
    "\n",
    "# 🔹 Encodage rapide (si pas déjà fait)\n",
    "grade_order = sorted(df['grade'].dropna().unique())\n",
    "grade_mapping = {grade: idx + 1 for idx, grade in enumerate(grade_order)}\n",
    "df['grade_encoded'] = df['grade'].map(grade_mapping)\n",
    "\n",
    "# Encodage supplémentaire\n",
    "df['home_ownership_encoded'] = df['home_ownership'].astype('category').cat.codes\n",
    "df['verification_status_encoded'] = df['verification_status'].astype('category').cat.codes\n",
    "df['loan_status_encoded'] = (df['loan_status'] == 'Charged Off').astype(int)\n",
    "df['purpose_encoded'] = df['purpose'].astype('category').cat.codes\n",
    "df['initial_list_status_encoded'] = df['initial_list_status'].map({'w': 1, 'f': 0})\n",
    "df['application_type_encoded'] = df['application_type'].astype('category').cat.codes\n",
    "\n",
    "# 🔹 Sélection des variables explicatives\n",
    "features = [\n",
    "    'int_rate', 'term', 'revol_util', 'loan_amnt', 'dti', \n",
    "    'installment', 'monthly_payment_calculated', \n",
    "    'home_ownership_encoded', 'verification_status_encoded',\n",
    "    'purpose_encoded', 'initial_list_status_encoded',\n",
    "    'application_type_encoded'\n",
    "]\n",
    "\n",
    "X = df[features]\n",
    "y = df['grade_encoded']\n",
    "\n",
    "# 🔥 Gérer les valeurs manquantes avant KNN\n",
    "X = X.dropna()  # OPTION 1 : suppression des lignes avec NaN\n",
    "y = y.loc[X.index]  # Important : aligner y avec X\n",
    "\n",
    "# 🔹 Standardisation obligatoire pour KNN\n",
    "scaler = StandardScaler()\n",
    "X_scaled = scaler.fit_transform(X)\n",
    "\n",
    "# 🔹 Découpage Train / Test (70%-30%)\n",
    "X_train, X_test, y_train, y_test = train_test_split(X_scaled, y, test_size=0.3, random_state=42, stratify=y)\n",
    "\n",
    "print(f\"✅ Jeu d'entraînement : {X_train.shape}\")\n",
    "print(f\"✅ Jeu de test : {X_test.shape}\")\n",
    "\n",
    "# 🔹 Modèle KNN\n",
    "knn = KNeighborsClassifier(n_neighbors=5)  # k=5 par défaut\n",
    "knn.fit(X_train, y_train)\n",
    "\n",
    "# 🔹 Prédictions\n",
    "y_pred = knn.predict(X_test)\n",
    "\n",
    "# 🔹 Évaluation\n",
    "accuracy = accuracy_score(y_test, y_pred)\n",
    "print(f\"\\n🎯 Accuracy du modèle KNN : {accuracy:.4f}\")\n",
    "\n",
    "print(\"\\n🧾 Rapport de classification :\")\n",
    "print(classification_report(y_test, y_pred))\n",
    "\n",
    "# 🔹 Matrice de confusion\n",
    "conf_matrix = confusion_matrix(y_test, y_pred)\n",
    "\n",
    "plt.figure(figsize=(8,6))\n",
    "sns.heatmap(conf_matrix, annot=True, fmt=\"d\", cmap=\"Blues\")\n",
    "plt.title(\"Matrice de confusion - KNN Prédiction du grade\")\n",
    "plt.xlabel(\"Grade prédit\")\n",
    "plt.ylabel(\"Vrai grade\")\n",
    "plt.tight_layout()\n",
    "plt.show()"
   ]
  }
 ],
 "metadata": {
  "kernelspec": {
   "display_name": ".venv",
   "language": "python",
   "name": "python3"
  },
  "language_info": {
   "codemirror_mode": {
    "name": "ipython",
    "version": 3
   },
   "file_extension": ".py",
   "mimetype": "text/x-python",
   "name": "python",
   "nbconvert_exporter": "python",
   "pygments_lexer": "ipython3",
   "version": "3.12.1"
  }
 },
 "nbformat": 4,
 "nbformat_minor": 5
}
