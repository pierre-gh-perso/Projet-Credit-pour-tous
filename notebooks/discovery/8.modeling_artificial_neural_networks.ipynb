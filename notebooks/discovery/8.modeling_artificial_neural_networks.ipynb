{
 "cells": [
  {
   "cell_type": "code",
   "execution_count": 11,
   "id": "b21bfa25",
   "metadata": {},
   "outputs": [],
   "source": [
    "from sklearn.preprocessing import LabelEncoder\n",
    "import numpy as np\n",
    "import pandas as pd\n",
    "from sklearn.model_selection import train_test_split\n",
    "from sklearn.utils.class_weight import compute_class_weight\n",
    "from sklearn.preprocessing import StandardScaler\n",
    "from tensorflow.keras.models import Sequential\n",
    "from tensorflow.keras.layers import Dense, Dropout\n",
    "from sklearn.metrics import classification_report, confusion_matrix\n",
    "import seaborn as sns\n",
    "import matplotlib.pyplot as plt"
   ]
  },
  {
   "cell_type": "code",
   "execution_count": null,
   "id": "58ef3f3f",
   "metadata": {},
   "outputs": [
    {
     "name": "stdout",
     "output_type": "stream",
     "text": [
      "Epoch 1/15\n"
     ]
    },
    {
     "name": "stderr",
     "output_type": "stream",
     "text": [
      "c:\\Users\\Pierre\\Desktop\\Projet Crédit pour tous\\.venv\\Lib\\site-packages\\keras\\src\\layers\\core\\dense.py:93: UserWarning: Do not pass an `input_shape`/`input_dim` argument to a layer. When using Sequential models, prefer using an `Input(shape)` object as the first layer in the model instead.\n",
      "  super().__init__(activity_regularizer=activity_regularizer, **kwargs)\n"
     ]
    },
    {
     "name": "stdout",
     "output_type": "stream",
     "text": [
      "\u001b[1m3205/3205\u001b[0m \u001b[32m━━━━━━━━━━━━━━━━━━━━\u001b[0m\u001b[37m\u001b[0m \u001b[1m4s\u001b[0m 1ms/step - accuracy: 0.4636 - loss: 0.9735 - val_accuracy: 0.4668 - val_loss: 0.9593\n",
      "Epoch 2/15\n",
      "\u001b[1m3205/3205\u001b[0m \u001b[32m━━━━━━━━━━━━━━━━━━━━\u001b[0m\u001b[37m\u001b[0m \u001b[1m4s\u001b[0m 1ms/step - accuracy: 0.4664 - loss: 0.9594 - val_accuracy: 0.4668 - val_loss: 0.9595\n",
      "Epoch 3/15\n",
      "\u001b[1m3205/3205\u001b[0m \u001b[32m━━━━━━━━━━━━━━━━━━━━\u001b[0m\u001b[37m\u001b[0m \u001b[1m4s\u001b[0m 1ms/step - accuracy: 0.4662 - loss: 0.9567 - val_accuracy: 0.4668 - val_loss: 0.9593\n",
      "Epoch 4/15\n",
      "\u001b[1m3205/3205\u001b[0m \u001b[32m━━━━━━━━━━━━━━━━━━━━\u001b[0m\u001b[37m\u001b[0m \u001b[1m4s\u001b[0m 1ms/step - accuracy: 0.4669 - loss: 0.9580 - val_accuracy: 0.4668 - val_loss: 0.9593\n",
      "Epoch 5/15\n",
      "\u001b[1m3205/3205\u001b[0m \u001b[32m━━━━━━━━━━━━━━━━━━━━\u001b[0m\u001b[37m\u001b[0m \u001b[1m4s\u001b[0m 1ms/step - accuracy: 0.4662 - loss: 0.9563 - val_accuracy: 0.4668 - val_loss: 0.9593\n",
      "Epoch 6/15\n",
      "\u001b[1m3205/3205\u001b[0m \u001b[32m━━━━━━━━━━━━━━━━━━━━\u001b[0m\u001b[37m\u001b[0m \u001b[1m4s\u001b[0m 1ms/step - accuracy: 0.4667 - loss: 0.9581 - val_accuracy: 0.4668 - val_loss: 0.9594\n",
      "Epoch 7/15\n",
      "\u001b[1m3205/3205\u001b[0m \u001b[32m━━━━━━━━━━━━━━━━━━━━\u001b[0m\u001b[37m\u001b[0m \u001b[1m4s\u001b[0m 1ms/step - accuracy: 0.4679 - loss: 0.9572 - val_accuracy: 0.4668 - val_loss: 0.9594\n",
      "Epoch 8/15\n",
      "\u001b[1m3205/3205\u001b[0m \u001b[32m━━━━━━━━━━━━━━━━━━━━\u001b[0m\u001b[37m\u001b[0m \u001b[1m4s\u001b[0m 1ms/step - accuracy: 0.4673 - loss: 0.9564 - val_accuracy: 0.4668 - val_loss: 0.9595\n",
      "Epoch 9/15\n",
      "\u001b[1m3205/3205\u001b[0m \u001b[32m━━━━━━━━━━━━━━━━━━━━\u001b[0m\u001b[37m\u001b[0m \u001b[1m4s\u001b[0m 1ms/step - accuracy: 0.4671 - loss: 0.9579 - val_accuracy: 0.4668 - val_loss: 0.9596\n",
      "Epoch 10/15\n",
      "\u001b[1m3205/3205\u001b[0m \u001b[32m━━━━━━━━━━━━━━━━━━━━\u001b[0m\u001b[37m\u001b[0m \u001b[1m4s\u001b[0m 1ms/step - accuracy: 0.4645 - loss: 0.9576 - val_accuracy: 0.4668 - val_loss: 0.9593\n",
      "Epoch 11/15\n",
      "\u001b[1m3205/3205\u001b[0m \u001b[32m━━━━━━━━━━━━━━━━━━━━\u001b[0m\u001b[37m\u001b[0m \u001b[1m4s\u001b[0m 1ms/step - accuracy: 0.4668 - loss: 0.9579 - val_accuracy: 0.4668 - val_loss: 0.9594\n",
      "Epoch 12/15\n",
      "\u001b[1m3205/3205\u001b[0m \u001b[32m━━━━━━━━━━━━━━━━━━━━\u001b[0m\u001b[37m\u001b[0m \u001b[1m4s\u001b[0m 1ms/step - accuracy: 0.4660 - loss: 0.9593 - val_accuracy: 0.4668 - val_loss: 0.9597\n",
      "Epoch 13/15\n",
      "\u001b[1m3205/3205\u001b[0m \u001b[32m━━━━━━━━━━━━━━━━━━━━\u001b[0m\u001b[37m\u001b[0m \u001b[1m4s\u001b[0m 1ms/step - accuracy: 0.4683 - loss: 0.9579 - val_accuracy: 0.4668 - val_loss: 0.9595\n",
      "Epoch 14/15\n",
      "\u001b[1m3205/3205\u001b[0m \u001b[32m━━━━━━━━━━━━━━━━━━━━\u001b[0m\u001b[37m\u001b[0m \u001b[1m4s\u001b[0m 1ms/step - accuracy: 0.4683 - loss: 0.9576 - val_accuracy: 0.4668 - val_loss: 0.9594\n",
      "Epoch 15/15\n",
      "\u001b[1m3205/3205\u001b[0m \u001b[32m━━━━━━━━━━━━━━━━━━━━\u001b[0m\u001b[37m\u001b[0m \u001b[1m4s\u001b[0m 1ms/step - accuracy: 0.4660 - loss: 0.9575 - val_accuracy: 0.4668 - val_loss: 0.9593\n",
      "Epoch 1/20\n"
     ]
    },
    {
     "name": "stderr",
     "output_type": "stream",
     "text": [
      "c:\\Users\\Pierre\\Desktop\\Projet Crédit pour tous\\.venv\\Lib\\site-packages\\keras\\src\\layers\\core\\dense.py:93: UserWarning: Do not pass an `input_shape`/`input_dim` argument to a layer. When using Sequential models, prefer using an `Input(shape)` object as the first layer in the model instead.\n",
      "  super().__init__(activity_regularizer=activity_regularizer, **kwargs)\n"
     ]
    },
    {
     "name": "stdout",
     "output_type": "stream",
     "text": [
      "\u001b[1m1495/1495\u001b[0m \u001b[32m━━━━━━━━━━━━━━━━━━━━\u001b[0m\u001b[37m\u001b[0m \u001b[1m3s\u001b[0m 1ms/step - accuracy: 0.6441 - loss: 0.6539 - val_accuracy: 0.6414 - val_loss: 0.6526\n",
      "Epoch 2/20\n",
      "\u001b[1m1495/1495\u001b[0m \u001b[32m━━━━━━━━━━━━━━━━━━━━\u001b[0m\u001b[37m\u001b[0m \u001b[1m2s\u001b[0m 1ms/step - accuracy: 0.6484 - loss: 0.6487 - val_accuracy: 0.6414 - val_loss: 0.6526\n",
      "Epoch 3/20\n",
      "\u001b[1m1495/1495\u001b[0m \u001b[32m━━━━━━━━━━━━━━━━━━━━\u001b[0m\u001b[37m\u001b[0m \u001b[1m2s\u001b[0m 1ms/step - accuracy: 0.6458 - loss: 0.6502 - val_accuracy: 0.6414 - val_loss: 0.6528\n",
      "Epoch 4/20\n",
      "\u001b[1m1495/1495\u001b[0m \u001b[32m━━━━━━━━━━━━━━━━━━━━\u001b[0m\u001b[37m\u001b[0m \u001b[1m2s\u001b[0m 1ms/step - accuracy: 0.6460 - loss: 0.6500 - val_accuracy: 0.6414 - val_loss: 0.6531\n",
      "Epoch 5/20\n",
      "\u001b[1m1495/1495\u001b[0m \u001b[32m━━━━━━━━━━━━━━━━━━━━\u001b[0m\u001b[37m\u001b[0m \u001b[1m2s\u001b[0m 1ms/step - accuracy: 0.6463 - loss: 0.6499 - val_accuracy: 0.6414 - val_loss: 0.6526\n",
      "Epoch 6/20\n",
      "\u001b[1m1495/1495\u001b[0m \u001b[32m━━━━━━━━━━━━━━━━━━━━\u001b[0m\u001b[37m\u001b[0m \u001b[1m2s\u001b[0m 1ms/step - accuracy: 0.6449 - loss: 0.6507 - val_accuracy: 0.6414 - val_loss: 0.6526\n",
      "Epoch 7/20\n",
      "\u001b[1m1495/1495\u001b[0m \u001b[32m━━━━━━━━━━━━━━━━━━━━\u001b[0m\u001b[37m\u001b[0m \u001b[1m2s\u001b[0m 1ms/step - accuracy: 0.6466 - loss: 0.6497 - val_accuracy: 0.6414 - val_loss: 0.6526\n",
      "Epoch 8/20\n",
      "\u001b[1m1495/1495\u001b[0m \u001b[32m━━━━━━━━━━━━━━━━━━━━\u001b[0m\u001b[37m\u001b[0m \u001b[1m2s\u001b[0m 1ms/step - accuracy: 0.6481 - loss: 0.6488 - val_accuracy: 0.6414 - val_loss: 0.6535\n",
      "Epoch 9/20\n",
      "\u001b[1m1495/1495\u001b[0m \u001b[32m━━━━━━━━━━━━━━━━━━━━\u001b[0m\u001b[37m\u001b[0m \u001b[1m2s\u001b[0m 1ms/step - accuracy: 0.6432 - loss: 0.6517 - val_accuracy: 0.6414 - val_loss: 0.6526\n",
      "Epoch 10/20\n",
      "\u001b[1m1495/1495\u001b[0m \u001b[32m━━━━━━━━━━━━━━━━━━━━\u001b[0m\u001b[37m\u001b[0m \u001b[1m2s\u001b[0m 1ms/step - accuracy: 0.6467 - loss: 0.6495 - val_accuracy: 0.6414 - val_loss: 0.6526\n",
      "Epoch 11/20\n",
      "\u001b[1m1495/1495\u001b[0m \u001b[32m━━━━━━━━━━━━━━━━━━━━\u001b[0m\u001b[37m\u001b[0m \u001b[1m2s\u001b[0m 1ms/step - accuracy: 0.6436 - loss: 0.6514 - val_accuracy: 0.6414 - val_loss: 0.6526\n",
      "Epoch 12/20\n",
      "\u001b[1m1495/1495\u001b[0m \u001b[32m━━━━━━━━━━━━━━━━━━━━\u001b[0m\u001b[37m\u001b[0m \u001b[1m2s\u001b[0m 1ms/step - accuracy: 0.6432 - loss: 0.6517 - val_accuracy: 0.6414 - val_loss: 0.6534\n",
      "Epoch 13/20\n",
      "\u001b[1m1495/1495\u001b[0m \u001b[32m━━━━━━━━━━━━━━━━━━━━\u001b[0m\u001b[37m\u001b[0m \u001b[1m2s\u001b[0m 1ms/step - accuracy: 0.6431 - loss: 0.6517 - val_accuracy: 0.6414 - val_loss: 0.6534\n",
      "Epoch 14/20\n",
      "\u001b[1m1495/1495\u001b[0m \u001b[32m━━━━━━━━━━━━━━━━━━━━\u001b[0m\u001b[37m\u001b[0m \u001b[1m2s\u001b[0m 1ms/step - accuracy: 0.6466 - loss: 0.6497 - val_accuracy: 0.6414 - val_loss: 0.6529\n",
      "Epoch 15/20\n",
      "\u001b[1m1495/1495\u001b[0m \u001b[32m━━━━━━━━━━━━━━━━━━━━\u001b[0m\u001b[37m\u001b[0m \u001b[1m2s\u001b[0m 1ms/step - accuracy: 0.6447 - loss: 0.6508 - val_accuracy: 0.6414 - val_loss: 0.6526\n",
      "Epoch 16/20\n",
      "\u001b[1m1495/1495\u001b[0m \u001b[32m━━━━━━━━━━━━━━━━━━━━\u001b[0m\u001b[37m\u001b[0m \u001b[1m2s\u001b[0m 1ms/step - accuracy: 0.6446 - loss: 0.6509 - val_accuracy: 0.6414 - val_loss: 0.6528\n",
      "Epoch 17/20\n",
      "\u001b[1m1495/1495\u001b[0m \u001b[32m━━━━━━━━━━━━━━━━━━━━\u001b[0m\u001b[37m\u001b[0m \u001b[1m2s\u001b[0m 1ms/step - accuracy: 0.6447 - loss: 0.6508 - val_accuracy: 0.6414 - val_loss: 0.6526\n",
      "Epoch 18/20\n",
      "\u001b[1m1495/1495\u001b[0m \u001b[32m━━━━━━━━━━━━━━━━━━━━\u001b[0m\u001b[37m\u001b[0m \u001b[1m2s\u001b[0m 1ms/step - accuracy: 0.6456 - loss: 0.6502 - val_accuracy: 0.6414 - val_loss: 0.6527\n",
      "Epoch 19/20\n",
      "\u001b[1m1495/1495\u001b[0m \u001b[32m━━━━━━━━━━━━━━━━━━━━\u001b[0m\u001b[37m\u001b[0m \u001b[1m2s\u001b[0m 1ms/step - accuracy: 0.6447 - loss: 0.6508 - val_accuracy: 0.6414 - val_loss: 0.6528\n",
      "Epoch 20/20\n",
      "\u001b[1m1495/1495\u001b[0m \u001b[32m━━━━━━━━━━━━━━━━━━━━\u001b[0m\u001b[37m\u001b[0m \u001b[1m2s\u001b[0m 1ms/step - accuracy: 0.6445 - loss: 0.6509 - val_accuracy: 0.6414 - val_loss: 0.6526\n",
      "Epoch 1/20\n"
     ]
    },
    {
     "name": "stderr",
     "output_type": "stream",
     "text": [
      "c:\\Users\\Pierre\\Desktop\\Projet Crédit pour tous\\.venv\\Lib\\site-packages\\keras\\src\\layers\\core\\dense.py:93: UserWarning: Do not pass an `input_shape`/`input_dim` argument to a layer. When using Sequential models, prefer using an `Input(shape)` object as the first layer in the model instead.\n",
      "  super().__init__(activity_regularizer=activity_regularizer, **kwargs)\n"
     ]
    },
    {
     "ename": "InvalidArgumentError",
     "evalue": "Graph execution error:\n\nDetected at node compile_loss/sparse_categorical_crossentropy/SparseSoftmaxCrossEntropyWithLogits/SparseSoftmaxCrossEntropyWithLogits defined at (most recent call last):\n  File \"<frozen runpy>\", line 198, in _run_module_as_main\n\n  File \"<frozen runpy>\", line 88, in _run_code\n\n  File \"c:\\Users\\Pierre\\Desktop\\Projet Crédit pour tous\\.venv\\Lib\\site-packages\\ipykernel_launcher.py\", line 18, in <module>\n\n  File \"c:\\Users\\Pierre\\Desktop\\Projet Crédit pour tous\\.venv\\Lib\\site-packages\\traitlets\\config\\application.py\", line 1075, in launch_instance\n\n  File \"c:\\Users\\Pierre\\Desktop\\Projet Crédit pour tous\\.venv\\Lib\\site-packages\\ipykernel\\kernelapp.py\", line 739, in start\n\n  File \"c:\\Users\\Pierre\\Desktop\\Projet Crédit pour tous\\.venv\\Lib\\site-packages\\tornado\\platform\\asyncio.py\", line 205, in start\n\n  File \"C:\\Users\\Pierre\\AppData\\Local\\Programs\\Python\\Python312\\Lib\\asyncio\\base_events.py\", line 638, in run_forever\n\n  File \"C:\\Users\\Pierre\\AppData\\Local\\Programs\\Python\\Python312\\Lib\\asyncio\\base_events.py\", line 1971, in _run_once\n\n  File \"C:\\Users\\Pierre\\AppData\\Local\\Programs\\Python\\Python312\\Lib\\asyncio\\events.py\", line 84, in _run\n\n  File \"c:\\Users\\Pierre\\Desktop\\Projet Crédit pour tous\\.venv\\Lib\\site-packages\\ipykernel\\kernelbase.py\", line 545, in dispatch_queue\n\n  File \"c:\\Users\\Pierre\\Desktop\\Projet Crédit pour tous\\.venv\\Lib\\site-packages\\ipykernel\\kernelbase.py\", line 534, in process_one\n\n  File \"c:\\Users\\Pierre\\Desktop\\Projet Crédit pour tous\\.venv\\Lib\\site-packages\\ipykernel\\kernelbase.py\", line 437, in dispatch_shell\n\n  File \"c:\\Users\\Pierre\\Desktop\\Projet Crédit pour tous\\.venv\\Lib\\site-packages\\ipykernel\\ipkernel.py\", line 362, in execute_request\n\n  File \"c:\\Users\\Pierre\\Desktop\\Projet Crédit pour tous\\.venv\\Lib\\site-packages\\ipykernel\\kernelbase.py\", line 778, in execute_request\n\n  File \"c:\\Users\\Pierre\\Desktop\\Projet Crédit pour tous\\.venv\\Lib\\site-packages\\ipykernel\\ipkernel.py\", line 449, in do_execute\n\n  File \"c:\\Users\\Pierre\\Desktop\\Projet Crédit pour tous\\.venv\\Lib\\site-packages\\ipykernel\\zmqshell.py\", line 549, in run_cell\n\n  File \"c:\\Users\\Pierre\\Desktop\\Projet Crédit pour tous\\.venv\\Lib\\site-packages\\IPython\\core\\interactiveshell.py\", line 3044, in run_cell\n\n  File \"c:\\Users\\Pierre\\Desktop\\Projet Crédit pour tous\\.venv\\Lib\\site-packages\\IPython\\core\\interactiveshell.py\", line 3099, in _run_cell\n\n  File \"c:\\Users\\Pierre\\Desktop\\Projet Crédit pour tous\\.venv\\Lib\\site-packages\\IPython\\core\\async_helpers.py\", line 128, in _pseudo_sync_runner\n\n  File \"c:\\Users\\Pierre\\Desktop\\Projet Crédit pour tous\\.venv\\Lib\\site-packages\\IPython\\core\\interactiveshell.py\", line 3303, in run_cell_async\n\n  File \"c:\\Users\\Pierre\\Desktop\\Projet Crédit pour tous\\.venv\\Lib\\site-packages\\IPython\\core\\interactiveshell.py\", line 3486, in run_ast_nodes\n\n  File \"c:\\Users\\Pierre\\Desktop\\Projet Crédit pour tous\\.venv\\Lib\\site-packages\\IPython\\core\\interactiveshell.py\", line 3546, in run_code\n\n  File \"C:\\Users\\Pierre\\AppData\\Local\\Temp\\ipykernel_5768\\3085302668.py\", line 73, in <module>\n\n  File \"C:\\Users\\Pierre\\AppData\\Local\\Temp\\ipykernel_5768\\3085302668.py\", line 68, in train_submodel\n\n  File \"c:\\Users\\Pierre\\Desktop\\Projet Crédit pour tous\\.venv\\Lib\\site-packages\\keras\\src\\utils\\traceback_utils.py\", line 117, in error_handler\n\n  File \"c:\\Users\\Pierre\\Desktop\\Projet Crédit pour tous\\.venv\\Lib\\site-packages\\keras\\src\\backend\\tensorflow\\trainer.py\", line 377, in fit\n\n  File \"c:\\Users\\Pierre\\Desktop\\Projet Crédit pour tous\\.venv\\Lib\\site-packages\\keras\\src\\backend\\tensorflow\\trainer.py\", line 220, in function\n\n  File \"c:\\Users\\Pierre\\Desktop\\Projet Crédit pour tous\\.venv\\Lib\\site-packages\\keras\\src\\backend\\tensorflow\\trainer.py\", line 133, in multi_step_on_iterator\n\n  File \"c:\\Users\\Pierre\\Desktop\\Projet Crédit pour tous\\.venv\\Lib\\site-packages\\keras\\src\\backend\\tensorflow\\trainer.py\", line 114, in one_step_on_data\n\n  File \"c:\\Users\\Pierre\\Desktop\\Projet Crédit pour tous\\.venv\\Lib\\site-packages\\keras\\src\\backend\\tensorflow\\trainer.py\", line 61, in train_step\n\n  File \"c:\\Users\\Pierre\\Desktop\\Projet Crédit pour tous\\.venv\\Lib\\site-packages\\keras\\src\\trainers\\trainer.py\", line 383, in _compute_loss\n\n  File \"c:\\Users\\Pierre\\Desktop\\Projet Crédit pour tous\\.venv\\Lib\\site-packages\\keras\\src\\trainers\\trainer.py\", line 351, in compute_loss\n\n  File \"c:\\Users\\Pierre\\Desktop\\Projet Crédit pour tous\\.venv\\Lib\\site-packages\\keras\\src\\trainers\\compile_utils.py\", line 690, in __call__\n\n  File \"c:\\Users\\Pierre\\Desktop\\Projet Crédit pour tous\\.venv\\Lib\\site-packages\\keras\\src\\trainers\\compile_utils.py\", line 699, in call\n\n  File \"c:\\Users\\Pierre\\Desktop\\Projet Crédit pour tous\\.venv\\Lib\\site-packages\\keras\\src\\losses\\loss.py\", line 67, in __call__\n\n  File \"c:\\Users\\Pierre\\Desktop\\Projet Crédit pour tous\\.venv\\Lib\\site-packages\\keras\\src\\losses\\losses.py\", line 33, in call\n\n  File \"c:\\Users\\Pierre\\Desktop\\Projet Crédit pour tous\\.venv\\Lib\\site-packages\\keras\\src\\losses\\losses.py\", line 2330, in sparse_categorical_crossentropy\n\n  File \"c:\\Users\\Pierre\\Desktop\\Projet Crédit pour tous\\.venv\\Lib\\site-packages\\keras\\src\\ops\\nn.py\", line 2000, in sparse_categorical_crossentropy\n\n  File \"c:\\Users\\Pierre\\Desktop\\Projet Crédit pour tous\\.venv\\Lib\\site-packages\\keras\\src\\backend\\tensorflow\\nn.py\", line 753, in sparse_categorical_crossentropy\n\nReceived a label value of 3 which is outside the valid range of [0, 2).  Label values: 3 2 2 2 3 3 3 2 2 3 3 2 2 2 2 2 2 2 2 3 2 3 2 3 2 3 3 2 3 2 2 3 2 2 3 2 2 2 3 3 2 2 2 2 2 3 3 2 3 2 2 2 3 2 3 2 2 3 2 3 2 2 2 2\n\t [[{{node compile_loss/sparse_categorical_crossentropy/SparseSoftmaxCrossEntropyWithLogits/SparseSoftmaxCrossEntropyWithLogits}}]] [Op:__inference_multi_step_on_iterator_829117]",
     "output_type": "error",
     "traceback": [
      "\u001b[31m---------------------------------------------------------------------------\u001b[39m",
      "\u001b[31mInvalidArgumentError\u001b[39m                      Traceback (most recent call last)",
      "\u001b[36mCell\u001b[39m\u001b[36m \u001b[39m\u001b[32mIn[12]\u001b[39m\u001b[32m, line 73\u001b[39m\n\u001b[32m     71\u001b[39m \u001b[38;5;66;03m# 🏗️ Entraînement des sous-modèles\u001b[39;00m\n\u001b[32m     72\u001b[39m model_AB = train_submodel(\u001b[32m0\u001b[39m)\n\u001b[32m---> \u001b[39m\u001b[32m73\u001b[39m model_CD = \u001b[43mtrain_submodel\u001b[49m\u001b[43m(\u001b[49m\u001b[32;43m1\u001b[39;49m\u001b[43m)\u001b[49m\n\u001b[32m     74\u001b[39m model_EFG = train_submodel(\u001b[32m2\u001b[39m)\n\u001b[32m     76\u001b[39m \u001b[38;5;66;03m# 🔮 Prédictions\u001b[39;00m\n",
      "\u001b[36mCell\u001b[39m\u001b[36m \u001b[39m\u001b[32mIn[12]\u001b[39m\u001b[32m, line 68\u001b[39m, in \u001b[36mtrain_submodel\u001b[39m\u001b[34m(group_label)\u001b[39m\n\u001b[32m     61\u001b[39m model = Sequential([\n\u001b[32m     62\u001b[39m     Dense(\u001b[32m64\u001b[39m, activation=\u001b[33m'\u001b[39m\u001b[33mrelu\u001b[39m\u001b[33m'\u001b[39m, input_shape=(X_sub_scaled.shape[\u001b[32m1\u001b[39m],)),\n\u001b[32m     63\u001b[39m     Dropout(\u001b[32m0.3\u001b[39m),\n\u001b[32m     64\u001b[39m     Dense(\u001b[32m32\u001b[39m, activation=\u001b[33m'\u001b[39m\u001b[33mrelu\u001b[39m\u001b[33m'\u001b[39m),\n\u001b[32m     65\u001b[39m     Dense(\u001b[38;5;28mlen\u001b[39m(np.unique(y_sub)), activation=\u001b[33m'\u001b[39m\u001b[33msoftmax\u001b[39m\u001b[33m'\u001b[39m)\n\u001b[32m     66\u001b[39m ])\n\u001b[32m     67\u001b[39m model.compile(optimizer=\u001b[33m'\u001b[39m\u001b[33madam\u001b[39m\u001b[33m'\u001b[39m, loss=\u001b[33m'\u001b[39m\u001b[33msparse_categorical_crossentropy\u001b[39m\u001b[33m'\u001b[39m, metrics=[\u001b[33m'\u001b[39m\u001b[33maccuracy\u001b[39m\u001b[33m'\u001b[39m])\n\u001b[32m---> \u001b[39m\u001b[32m68\u001b[39m \u001b[43mmodel\u001b[49m\u001b[43m.\u001b[49m\u001b[43mfit\u001b[49m\u001b[43m(\u001b[49m\u001b[43mX_sub_scaled\u001b[49m\u001b[43m,\u001b[49m\u001b[43m \u001b[49m\u001b[43my_sub\u001b[49m\u001b[43m,\u001b[49m\u001b[43m \u001b[49m\u001b[43mepochs\u001b[49m\u001b[43m=\u001b[49m\u001b[32;43m20\u001b[39;49m\u001b[43m,\u001b[49m\u001b[43m \u001b[49m\u001b[43mbatch_size\u001b[49m\u001b[43m=\u001b[49m\u001b[32;43m64\u001b[39;49m\u001b[43m,\u001b[49m\u001b[43m \u001b[49m\u001b[43mvalidation_split\u001b[49m\u001b[43m=\u001b[49m\u001b[32;43m0.2\u001b[39;49m\u001b[43m)\u001b[49m\n\u001b[32m     69\u001b[39m \u001b[38;5;28;01mreturn\u001b[39;00m model\n",
      "\u001b[36mFile \u001b[39m\u001b[32mc:\\Users\\Pierre\\Desktop\\Projet Crédit pour tous\\.venv\\Lib\\site-packages\\keras\\src\\utils\\traceback_utils.py:122\u001b[39m, in \u001b[36mfilter_traceback.<locals>.error_handler\u001b[39m\u001b[34m(*args, **kwargs)\u001b[39m\n\u001b[32m    119\u001b[39m     filtered_tb = _process_traceback_frames(e.__traceback__)\n\u001b[32m    120\u001b[39m     \u001b[38;5;66;03m# To get the full stack trace, call:\u001b[39;00m\n\u001b[32m    121\u001b[39m     \u001b[38;5;66;03m# `keras.config.disable_traceback_filtering()`\u001b[39;00m\n\u001b[32m--> \u001b[39m\u001b[32m122\u001b[39m     \u001b[38;5;28;01mraise\u001b[39;00m e.with_traceback(filtered_tb) \u001b[38;5;28;01mfrom\u001b[39;00m\u001b[38;5;250m \u001b[39m\u001b[38;5;28;01mNone\u001b[39;00m\n\u001b[32m    123\u001b[39m \u001b[38;5;28;01mfinally\u001b[39;00m:\n\u001b[32m    124\u001b[39m     \u001b[38;5;28;01mdel\u001b[39;00m filtered_tb\n",
      "\u001b[36mFile \u001b[39m\u001b[32mc:\\Users\\Pierre\\Desktop\\Projet Crédit pour tous\\.venv\\Lib\\site-packages\\tensorflow\\python\\eager\\execute.py:53\u001b[39m, in \u001b[36mquick_execute\u001b[39m\u001b[34m(op_name, num_outputs, inputs, attrs, ctx, name)\u001b[39m\n\u001b[32m     51\u001b[39m \u001b[38;5;28;01mtry\u001b[39;00m:\n\u001b[32m     52\u001b[39m   ctx.ensure_initialized()\n\u001b[32m---> \u001b[39m\u001b[32m53\u001b[39m   tensors = pywrap_tfe.TFE_Py_Execute(ctx._handle, device_name, op_name,\n\u001b[32m     54\u001b[39m                                       inputs, attrs, num_outputs)\n\u001b[32m     55\u001b[39m \u001b[38;5;28;01mexcept\u001b[39;00m core._NotOkStatusException \u001b[38;5;28;01mas\u001b[39;00m e:\n\u001b[32m     56\u001b[39m   \u001b[38;5;28;01mif\u001b[39;00m name \u001b[38;5;129;01mis\u001b[39;00m \u001b[38;5;129;01mnot\u001b[39;00m \u001b[38;5;28;01mNone\u001b[39;00m:\n",
      "\u001b[31mInvalidArgumentError\u001b[39m: Graph execution error:\n\nDetected at node compile_loss/sparse_categorical_crossentropy/SparseSoftmaxCrossEntropyWithLogits/SparseSoftmaxCrossEntropyWithLogits defined at (most recent call last):\n  File \"<frozen runpy>\", line 198, in _run_module_as_main\n\n  File \"<frozen runpy>\", line 88, in _run_code\n\n  File \"c:\\Users\\Pierre\\Desktop\\Projet Crédit pour tous\\.venv\\Lib\\site-packages\\ipykernel_launcher.py\", line 18, in <module>\n\n  File \"c:\\Users\\Pierre\\Desktop\\Projet Crédit pour tous\\.venv\\Lib\\site-packages\\traitlets\\config\\application.py\", line 1075, in launch_instance\n\n  File \"c:\\Users\\Pierre\\Desktop\\Projet Crédit pour tous\\.venv\\Lib\\site-packages\\ipykernel\\kernelapp.py\", line 739, in start\n\n  File \"c:\\Users\\Pierre\\Desktop\\Projet Crédit pour tous\\.venv\\Lib\\site-packages\\tornado\\platform\\asyncio.py\", line 205, in start\n\n  File \"C:\\Users\\Pierre\\AppData\\Local\\Programs\\Python\\Python312\\Lib\\asyncio\\base_events.py\", line 638, in run_forever\n\n  File \"C:\\Users\\Pierre\\AppData\\Local\\Programs\\Python\\Python312\\Lib\\asyncio\\base_events.py\", line 1971, in _run_once\n\n  File \"C:\\Users\\Pierre\\AppData\\Local\\Programs\\Python\\Python312\\Lib\\asyncio\\events.py\", line 84, in _run\n\n  File \"c:\\Users\\Pierre\\Desktop\\Projet Crédit pour tous\\.venv\\Lib\\site-packages\\ipykernel\\kernelbase.py\", line 545, in dispatch_queue\n\n  File \"c:\\Users\\Pierre\\Desktop\\Projet Crédit pour tous\\.venv\\Lib\\site-packages\\ipykernel\\kernelbase.py\", line 534, in process_one\n\n  File \"c:\\Users\\Pierre\\Desktop\\Projet Crédit pour tous\\.venv\\Lib\\site-packages\\ipykernel\\kernelbase.py\", line 437, in dispatch_shell\n\n  File \"c:\\Users\\Pierre\\Desktop\\Projet Crédit pour tous\\.venv\\Lib\\site-packages\\ipykernel\\ipkernel.py\", line 362, in execute_request\n\n  File \"c:\\Users\\Pierre\\Desktop\\Projet Crédit pour tous\\.venv\\Lib\\site-packages\\ipykernel\\kernelbase.py\", line 778, in execute_request\n\n  File \"c:\\Users\\Pierre\\Desktop\\Projet Crédit pour tous\\.venv\\Lib\\site-packages\\ipykernel\\ipkernel.py\", line 449, in do_execute\n\n  File \"c:\\Users\\Pierre\\Desktop\\Projet Crédit pour tous\\.venv\\Lib\\site-packages\\ipykernel\\zmqshell.py\", line 549, in run_cell\n\n  File \"c:\\Users\\Pierre\\Desktop\\Projet Crédit pour tous\\.venv\\Lib\\site-packages\\IPython\\core\\interactiveshell.py\", line 3044, in run_cell\n\n  File \"c:\\Users\\Pierre\\Desktop\\Projet Crédit pour tous\\.venv\\Lib\\site-packages\\IPython\\core\\interactiveshell.py\", line 3099, in _run_cell\n\n  File \"c:\\Users\\Pierre\\Desktop\\Projet Crédit pour tous\\.venv\\Lib\\site-packages\\IPython\\core\\async_helpers.py\", line 128, in _pseudo_sync_runner\n\n  File \"c:\\Users\\Pierre\\Desktop\\Projet Crédit pour tous\\.venv\\Lib\\site-packages\\IPython\\core\\interactiveshell.py\", line 3303, in run_cell_async\n\n  File \"c:\\Users\\Pierre\\Desktop\\Projet Crédit pour tous\\.venv\\Lib\\site-packages\\IPython\\core\\interactiveshell.py\", line 3486, in run_ast_nodes\n\n  File \"c:\\Users\\Pierre\\Desktop\\Projet Crédit pour tous\\.venv\\Lib\\site-packages\\IPython\\core\\interactiveshell.py\", line 3546, in run_code\n\n  File \"C:\\Users\\Pierre\\AppData\\Local\\Temp\\ipykernel_5768\\3085302668.py\", line 73, in <module>\n\n  File \"C:\\Users\\Pierre\\AppData\\Local\\Temp\\ipykernel_5768\\3085302668.py\", line 68, in train_submodel\n\n  File \"c:\\Users\\Pierre\\Desktop\\Projet Crédit pour tous\\.venv\\Lib\\site-packages\\keras\\src\\utils\\traceback_utils.py\", line 117, in error_handler\n\n  File \"c:\\Users\\Pierre\\Desktop\\Projet Crédit pour tous\\.venv\\Lib\\site-packages\\keras\\src\\backend\\tensorflow\\trainer.py\", line 377, in fit\n\n  File \"c:\\Users\\Pierre\\Desktop\\Projet Crédit pour tous\\.venv\\Lib\\site-packages\\keras\\src\\backend\\tensorflow\\trainer.py\", line 220, in function\n\n  File \"c:\\Users\\Pierre\\Desktop\\Projet Crédit pour tous\\.venv\\Lib\\site-packages\\keras\\src\\backend\\tensorflow\\trainer.py\", line 133, in multi_step_on_iterator\n\n  File \"c:\\Users\\Pierre\\Desktop\\Projet Crédit pour tous\\.venv\\Lib\\site-packages\\keras\\src\\backend\\tensorflow\\trainer.py\", line 114, in one_step_on_data\n\n  File \"c:\\Users\\Pierre\\Desktop\\Projet Crédit pour tous\\.venv\\Lib\\site-packages\\keras\\src\\backend\\tensorflow\\trainer.py\", line 61, in train_step\n\n  File \"c:\\Users\\Pierre\\Desktop\\Projet Crédit pour tous\\.venv\\Lib\\site-packages\\keras\\src\\trainers\\trainer.py\", line 383, in _compute_loss\n\n  File \"c:\\Users\\Pierre\\Desktop\\Projet Crédit pour tous\\.venv\\Lib\\site-packages\\keras\\src\\trainers\\trainer.py\", line 351, in compute_loss\n\n  File \"c:\\Users\\Pierre\\Desktop\\Projet Crédit pour tous\\.venv\\Lib\\site-packages\\keras\\src\\trainers\\compile_utils.py\", line 690, in __call__\n\n  File \"c:\\Users\\Pierre\\Desktop\\Projet Crédit pour tous\\.venv\\Lib\\site-packages\\keras\\src\\trainers\\compile_utils.py\", line 699, in call\n\n  File \"c:\\Users\\Pierre\\Desktop\\Projet Crédit pour tous\\.venv\\Lib\\site-packages\\keras\\src\\losses\\loss.py\", line 67, in __call__\n\n  File \"c:\\Users\\Pierre\\Desktop\\Projet Crédit pour tous\\.venv\\Lib\\site-packages\\keras\\src\\losses\\losses.py\", line 33, in call\n\n  File \"c:\\Users\\Pierre\\Desktop\\Projet Crédit pour tous\\.venv\\Lib\\site-packages\\keras\\src\\losses\\losses.py\", line 2330, in sparse_categorical_crossentropy\n\n  File \"c:\\Users\\Pierre\\Desktop\\Projet Crédit pour tous\\.venv\\Lib\\site-packages\\keras\\src\\ops\\nn.py\", line 2000, in sparse_categorical_crossentropy\n\n  File \"c:\\Users\\Pierre\\Desktop\\Projet Crédit pour tous\\.venv\\Lib\\site-packages\\keras\\src\\backend\\tensorflow\\nn.py\", line 753, in sparse_categorical_crossentropy\n\nReceived a label value of 3 which is outside the valid range of [0, 2).  Label values: 3 2 2 2 3 3 3 2 2 3 3 2 2 2 2 2 2 2 2 3 2 3 2 3 2 3 3 2 3 2 2 3 2 2 3 2 2 2 3 3 2 2 2 2 2 3 3 2 3 2 2 2 3 2 3 2 2 3 2 3 2 2 2 2\n\t [[{{node compile_loss/sparse_categorical_crossentropy/SparseSoftmaxCrossEntropyWithLogits/SparseSoftmaxCrossEntropyWithLogits}}]] [Op:__inference_multi_step_on_iterator_829117]"
     ]
    }
   ],
   "source": [
    "# 📂 Chargement des données\n",
    "input_path = \"../../data/processed/dataset_clean_no_outliers.parquet\"\n",
    "df = pd.read_parquet(input_path)\n",
    "\n",
    "# Encodage de la classe A-G\n",
    "le_grade = LabelEncoder()\n",
    "df['grade_encoded'] = le_grade.fit_transform(df['grade'])\n",
    "\n",
    "# Création des groupes de risque\n",
    "def map_grade_group(grade):\n",
    "    if grade in ['A', 'B']:\n",
    "        return 0  # Faible\n",
    "    elif grade in ['C', 'D']:\n",
    "        return 1  # Moyen\n",
    "    else:\n",
    "        return 2  # Élevé\n",
    "\n",
    "df['grade_group'] = df['grade'].apply(map_grade_group)\n",
    "\n",
    "# ✅ Sélection des features\n",
    "df['home_ownership_encoded'] = LabelEncoder().fit_transform(df['home_ownership'])\n",
    "df['purpose_encoded'] = LabelEncoder().fit_transform(df['purpose'])\n",
    "df['job_category_encoded'] = LabelEncoder().fit_transform(df['job_category'])\n",
    "\n",
    "features = [\n",
    "    'loan_amnt', 'emp_length', 'monthly_income',\n",
    "    'home_ownership_encoded', 'purpose_encoded', 'job_category_encoded',\n",
    "    'installment', 'int_rate', 'term', 'dti'\n",
    "]\n",
    "\n",
    "X = df[features]\n",
    "y_group = df['grade_group']\n",
    "y_grade = df['grade_encoded']\n",
    "\n",
    "# 🧪 Split train/test\n",
    "X_train, X_test, y_train_group, y_test_group, y_train_grade, y_test_grade = train_test_split(\n",
    "    X, y_group, y_grade, test_size=0.3, random_state=42\n",
    ")\n",
    "\n",
    "# ⚖️ Standardisation\n",
    "scaler = StandardScaler()\n",
    "X_train_scaled = scaler.fit_transform(X_train)\n",
    "X_test_scaled = scaler.transform(X_test)\n",
    "\n",
    "# 🧠 Modèle pour prédire le groupe\n",
    "model_group = Sequential([\n",
    "    Dense(64, activation='relu', input_shape=(X_train_scaled.shape[1],)),\n",
    "    Dropout(0.3),\n",
    "    Dense(32, activation='relu'),\n",
    "    Dense(3, activation='softmax')\n",
    "])\n",
    "model_group.compile(optimizer='adam', loss='sparse_categorical_crossentropy', metrics=['accuracy'])\n",
    "model_group.fit(X_train_scaled, y_train_group, epochs=15, batch_size=64, validation_split=0.2)\n",
    "\n",
    "# 🔁 Fonction de sous-modèle par groupe\n",
    "def train_submodel(group_label):\n",
    "    from sklearn.preprocessing import LabelEncoder\n",
    "\n",
    "    # Filtrage des données du groupe\n",
    "    X_sub = X_train[y_train_group == group_label]\n",
    "    y_sub = y_train_grade[y_train_group == group_label]\n",
    "\n",
    "    # Réencodage local\n",
    "    local_encoder = LabelEncoder()\n",
    "    y_sub_encoded = local_encoder.fit_transform(y_sub)\n",
    "\n",
    "    X_sub_scaled = scaler.transform(X_sub)\n",
    "\n",
    "    model = Sequential([\n",
    "        Dense(64, activation='relu', input_shape=(X_sub_scaled.shape[1],)),\n",
    "        Dropout(0.3),\n",
    "        Dense(32, activation='relu'),\n",
    "        Dense(len(local_encoder.classes_), activation='softmax')\n",
    "    ])\n",
    "    model.compile(optimizer='adam', loss='sparse_categorical_crossentropy', metrics=['accuracy'])\n",
    "    model.fit(X_sub_scaled, y_sub_encoded, epochs=20, batch_size=64, validation_split=0.2)\n",
    "\n",
    "    # On retourne le modèle ET l’encodeur local pour les prédictions\n",
    "    return model, local_encoder\n",
    "\n",
    "# 🏗️ Entraînement des sous-modèles\n",
    "model_AB, encoder_AB = train_submodel(0)\n",
    "model_CD, encoder_CD = train_submodel(1)\n",
    "model_EFG, encoder_EFG = train_submodel(2)\n",
    "\n",
    "\n",
    "# 🔮 Prédictions\n",
    "group_preds = np.argmax(model_group.predict(X_test_scaled), axis=1)\n",
    "final_preds = []\n",
    "\n",
    "for i in range(len(X_test)):\n",
    "    x = X_test_scaled[i:i+1]\n",
    "    group = group_preds[i]\n",
    "\n",
    "    if group == 0:\n",
    "        pred_local = np.argmax(model_AB.predict(x), axis=1)[0]\n",
    "        pred = encoder_AB.inverse_transform([pred_local])[0]\n",
    "    elif group == 1:\n",
    "        pred_local = np.argmax(model_CD.predict(x), axis=1)[0]\n",
    "        pred = encoder_CD.inverse_transform([pred_local])[0]\n",
    "    else:\n",
    "        pred_local = np.argmax(model_EFG.predict(x), axis=1)[0]\n",
    "        pred = encoder_EFG.inverse_transform([pred_local])[0]\n",
    "\n",
    "    final_preds.append(pred)\n"
   ]
  },
  {
   "cell_type": "code",
   "execution_count": null,
   "id": "69b38218",
   "metadata": {},
   "outputs": [
    {
     "data": {
      "image/png": "[encoded data removed]",
      "text/plain": [
       "<Figure size 640x480 with 2 Axes>"
      ]
     },
     "metadata": {},
     "output_type": "display_data"
    }
   ],
   "source": [
    "print(\"🎯 Rapport de classification :\")\n",
    "print(classification_report(y_test_grade, final_preds, target_names=le_grade.classes_))\n",
    "\n",
    "cm = confusion_matrix(y_test_grade, final_preds)\n",
    "plt.figure(figsize=(10, 8))\n",
    "sns.heatmap(cm, annot=True, fmt=\"d\", cmap=\"Blues\", xticklabels=le_grade.classes_, yticklabels=le_grade.classes_)\n",
    "plt.title(\"Matrice de confusion finale (Grade A→G)\")\n",
    "plt.xlabel(\"Prédit\")\n",
    "plt.ylabel(\"Réel\")\n",
    "plt.show()"
   ]
  }
 ],
 "metadata": {
  "kernelspec": {
   "display_name": ".venv",
   "language": "python",
   "name": "python3"
  },
  "language_info": {
   "codemirror_mode": {
    "name": "ipython",
    "version": 3
   },
   "file_extension": ".py",
   "mimetype": "text/x-python",
   "name": "python",
   "nbconvert_exporter": "python",
   "pygments_lexer": "ipython3",
   "version": "3.12.1"
  }
 },
 "nbformat": 4,
 "nbformat_minor": 5
}
