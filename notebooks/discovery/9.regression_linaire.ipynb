{
 "cells": [
  {
   "cell_type": "code",
   "execution_count": 1,
   "id": "64fac824",
   "metadata": {},
   "outputs": [],
   "source": [
    "import pandas as pd\n",
    "import numpy as np\n",
    "from sklearn.linear_model import Ridge\n",
    "from sklearn.metrics import mean_squared_error, r2_score, mean_absolute_error\n",
    "from sklearn.model_selection import train_test_split\n",
    "from sklearn.preprocessing import LabelEncoder, StandardScaler"
   ]
  },
  {
   "cell_type": "code",
   "execution_count": 3,
   "id": "bc5445f7",
   "metadata": {},
   "outputs": [
    {
     "name": "stdout",
     "output_type": "stream",
     "text": [
      "🎯 RMSE : 1.5168\n",
      "📏 MAE : 0.9992\n",
      "📊 R² Score : 0.0881\n",
      "\n",
      "🔍 Exemple de prédictions :\n",
      "   Réel    Prédit\n",
      "0     6  5.282015\n",
      "1     5  5.558956\n",
      "2     6  5.902990\n",
      "3     5  4.899473\n",
      "4     6  4.891242\n",
      "5     5  4.767567\n",
      "6     5  5.020969\n",
      "7     6  5.300847\n",
      "8     3  5.191247\n",
      "9     2  3.928972\n"
     ]
    }
   ],
   "source": [
    "# 📂 Chargement\n",
    "input_path = \"../../data/processed/dataset_clean_no_outliers.parquet\"\n",
    "df = pd.read_parquet(input_path)\n",
    "\n",
    "# 🎯 Encodage du grade en score numérique\n",
    "grade_map = {'A': 7, 'B': 6, 'C': 5, 'D': 4, 'E': 3, 'F': 2, 'G': 1}\n",
    "df = df[df['grade'].isin(grade_map.keys())]  # filtre sécurité\n",
    "df['grade_score'] = df['grade'].map(grade_map)\n",
    "\n",
    "# ✅ Features utilisées\n",
    "features = [\n",
    "    'purpose', 'loan_amnt', 'monthly_income',\n",
    "    'emp_length', 'home_ownership', 'job_category'\n",
    "]\n",
    "\n",
    "df = df[features + ['grade_score']].dropna()\n",
    "\n",
    "# 🔢 Encodage des variables catégorielles\n",
    "df['home_ownership_encoded'] = LabelEncoder().fit_transform(df['home_ownership'])\n",
    "df['purpose_encoded'] = LabelEncoder().fit_transform(df['purpose'])\n",
    "df['job_category_encoded'] = LabelEncoder().fit_transform(df['job_category'])\n",
    "\n",
    "# 🔧 Jeu final\n",
    "X = df[['loan_amnt', 'monthly_income', 'emp_length', 'home_ownership_encoded', 'purpose_encoded', 'job_category_encoded']]\n",
    "y = df['grade_score']\n",
    "\n",
    "# 🧪 Split\n",
    "X_train, X_test, y_train, y_test = train_test_split(X, y, test_size=0.3, random_state=42)\n",
    "\n",
    "# ⚖️ Standardisation\n",
    "scaler = StandardScaler()\n",
    "X_train_scaled = scaler.fit_transform(X_train)\n",
    "X_test_scaled = scaler.transform(X_test)\n",
    "\n",
    "# 📈 Régression Ridge\n",
    "model = Ridge(alpha=1.0)\n",
    "model.fit(X_train_scaled, y_train)\n",
    "\n",
    "# 🔮 Prédictions\n",
    "y_pred = model.predict(X_test_scaled)\n",
    "\n",
    "# 🧮 Évaluation\n",
    "rmse = mean_squared_error(y_test, y_pred)\n",
    "mae = mean_absolute_error(y_test, y_pred)\n",
    "r2 = r2_score(y_test, y_pred)\n",
    "\n",
    "print(f\"🎯 RMSE : {rmse:.4f}\")\n",
    "print(f\"📏 MAE : {mae:.4f}\")\n",
    "print(f\"📊 R² Score : {r2:.4f}\")\n",
    "\n",
    "# 🔍 Affichage de quelques prédictions (optionnel)\n",
    "results = pd.DataFrame({'Réel': y_test.values, 'Prédit': y_pred})\n",
    "print(\"\\n🔍 Exemple de prédictions :\")\n",
    "print(results.head(10))\n"
   ]
  },
  {
   "cell_type": "code",
   "execution_count": 5,
   "id": "30ae24f1",
   "metadata": {},
   "outputs": [
    {
     "name": "stdout",
     "output_type": "stream",
     "text": [
      "📦 Random Forest Regressor\n",
      "🎯 RMSE : 1.1991\n",
      "📏 MAE : 0.9693\n",
      "📊 R² Score : 0.1357\n",
      "\n",
      "🔍 Exemple de prédictions :\n",
      "   Réel    Prédit\n",
      "0     6  5.457993\n",
      "1     5  5.412449\n",
      "2     6  5.836179\n",
      "3     5  5.014531\n",
      "4     6  4.981928\n",
      "5     5  4.651303\n",
      "6     5  5.114625\n",
      "7     6  5.064158\n",
      "8     3  5.459291\n",
      "9     2  4.064466\n"
     ]
    }
   ],
   "source": [
    "from sklearn.ensemble import RandomForestRegressor\n",
    "from sklearn.metrics import mean_squared_error, mean_absolute_error, r2_score\n",
    "import numpy as np\n",
    "\n",
    "# 🌲 Modèle Random Forest\n",
    "rf_model = RandomForestRegressor(n_estimators=100, max_depth=10, random_state=42)\n",
    "rf_model.fit(X_train, y_train)\n",
    "\n",
    "# 🔮 Prédictions\n",
    "y_pred_rf = rf_model.predict(X_test)\n",
    "\n",
    "# 📊 Évaluation\n",
    "rmse_rf = np.sqrt(mean_squared_error(y_test, y_pred_rf))\n",
    "mae_rf = mean_absolute_error(y_test, y_pred_rf)\n",
    "r2_rf = r2_score(y_test, y_pred_rf)\n",
    "\n",
    "print(\"📦 Random Forest Regressor\")\n",
    "print(f\"🎯 RMSE : {rmse_rf:.4f}\")\n",
    "print(f\"📏 MAE : {mae_rf:.4f}\")\n",
    "print(f\"📊 R² Score : {r2_rf:.4f}\")\n",
    "\n",
    "# 🔍 Quelques exemples\n",
    "print(\"\\n🔍 Exemple de prédictions :\")\n",
    "print(pd.DataFrame({\"Réel\": y_test[:10].values, \"Prédit\": y_pred_rf[:10]}))\n"
   ]
  },
  {
   "cell_type": "code",
   "execution_count": 6,
   "id": "86976356",
   "metadata": {},
   "outputs": [
    {
     "name": "stdout",
     "output_type": "stream",
     "text": [
      "\n",
      "⚡ XGBoost Regressor\n",
      "🎯 RMSE : 1.1916\n",
      "📏 MAE : 0.9622\n",
      "📊 R² Score : 0.1464\n",
      "\n",
      "🔍 Exemple de prédictions :\n",
      "   Réel    Prédit\n",
      "0     6  5.440286\n",
      "1     5  5.399595\n",
      "2     6  5.902311\n",
      "3     5  5.017663\n",
      "4     6  5.062352\n",
      "5     5  4.759347\n",
      "6     5  4.970632\n",
      "7     6  5.299908\n",
      "8     3  5.378512\n",
      "9     2  3.864398\n"
     ]
    }
   ],
   "source": [
    "from xgboost import XGBRegressor\n",
    "\n",
    "# ⚡ Modèle XGBoost Regressor\n",
    "xgb_model = XGBRegressor(n_estimators=100, max_depth=6, learning_rate=0.1, random_state=42)\n",
    "xgb_model.fit(X_train, y_train)\n",
    "\n",
    "# 🔮 Prédictions\n",
    "y_pred_xgb = xgb_model.predict(X_test)\n",
    "\n",
    "# 📊 Évaluation\n",
    "rmse_xgb = np.sqrt(mean_squared_error(y_test, y_pred_xgb))\n",
    "mae_xgb = mean_absolute_error(y_test, y_pred_xgb)\n",
    "r2_xgb = r2_score(y_test, y_pred_xgb)\n",
    "\n",
    "print(\"\\n⚡ XGBoost Regressor\")\n",
    "print(f\"🎯 RMSE : {rmse_xgb:.4f}\")\n",
    "print(f\"📏 MAE : {mae_xgb:.4f}\")\n",
    "print(f\"📊 R² Score : {r2_xgb:.4f}\")\n",
    "\n",
    "# 🔍 Quelques exemples\n",
    "print(\"\\n🔍 Exemple de prédictions :\")\n",
    "print(pd.DataFrame({\"Réel\": y_test[:10].values, \"Prédit\": y_pred_xgb[:10]}))\n"
   ]
  }
 ],
 "metadata": {
  "kernelspec": {
   "display_name": ".venv",
   "language": "python",
   "name": "python3"
  },
  "language_info": {
   "codemirror_mode": {
    "name": "ipython",
    "version": 3
   },
   "file_extension": ".py",
   "mimetype": "text/x-python",
   "name": "python",
   "nbconvert_exporter": "python",
   "pygments_lexer": "ipython3",
   "version": "3.12.1"
  }
 },
 "nbformat": 4,
 "nbformat_minor": 5
}
