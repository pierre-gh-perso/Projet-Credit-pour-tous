{
 "cells": [
  {
   "cell_type": "code",
   "execution_count": 1,
   "id": "d846ca30",
   "metadata": {},
   "outputs": [],
   "source": [
    "import pandas as pd\n",
    "import os"
   ]
  },
  {
   "cell_type": "code",
   "execution_count": 2,
   "id": "e9312848",
   "metadata": {},
   "outputs": [
    {
     "name": "stderr",
     "output_type": "stream",
     "text": [
      "C:\\Users\\Pierre\\AppData\\Local\\Temp\\ipykernel_15648\\2652925604.py:21: UserWarning: Could not infer format, so each element will be parsed individually, falling back to `dateutil`. To ensure parsing is consistent and as-expected, please specify a format.\n",
      "  df['issue_d'] = pd.to_datetime(df['issue_d'], errors='coerce')\n",
      "C:\\Users\\Pierre\\AppData\\Local\\Temp\\ipykernel_15648\\2652925604.py:22: UserWarning: Could not infer format, so each element will be parsed individually, falling back to `dateutil`. To ensure parsing is consistent and as-expected, please specify a format.\n",
      "  df['earliest_cr_line'] = pd.to_datetime(df['earliest_cr_line'], errors='coerce')\n"
     ]
    },
    {
     "name": "stdout",
     "output_type": "stream",
     "text": [
      "✅ Fichier Parquet sauvegardé : ../../data/cleaning\\step1_typed.parquet\n"
     ]
    }
   ],
   "source": [
    "# 🔹 Chemins\n",
    "input_path = \"../../data/raw/Classeur1.csv\"\n",
    "output_dir = \"../../data/cleaning\"\n",
    "output_parquet_path = os.path.join(output_dir, \"step1_typed.parquet\")\n",
    "\n",
    "# 🔹 Chargement des données\n",
    "df = pd.read_csv(input_path, sep=\";\")\n",
    "\n",
    "# 🔹 Conversion de 'term'\n",
    "df['term'] = df['term'].str.extract(r'(\\d+)').astype(float)\n",
    "\n",
    "# 🔹 Conversion de 'emp_length'\n",
    "emp_length_map = {\n",
    "    '10+ years': 10.0, '9 years': 9.0, '8 years': 8.0, '7 years': 7.0,\n",
    "    '6 years': 6.0, '5 years': 5.0, '4 years': 4.0, '3 years': 3.0,\n",
    "    '2 years': 2.0, '1 year': 1.0, '< 1 year': 0.0, 'n/a': None\n",
    "}\n",
    "df['emp_length'] = df['emp_length'].map(emp_length_map)\n",
    "\n",
    "# 🔹 Conversion des dates\n",
    "df['issue_d'] = pd.to_datetime(df['issue_d'], errors='coerce')\n",
    "df['earliest_cr_line'] = pd.to_datetime(df['earliest_cr_line'], errors='coerce')\n",
    "\n",
    "# Nettoyage du champ (retirer % s'il y en a)\n",
    "df['int_rate'] = df['int_rate'].astype(str).str.replace('%', '', regex=False)\n",
    "\n",
    "# Conversion en float\n",
    "df['int_rate'] = pd.to_numeric(df['int_rate'], errors='coerce')\n",
    "\n",
    "# Division par 100 pour avoir un taux en décimal\n",
    "df['int_rate'] = df['int_rate'] / 100\n",
    "\n",
    "\n",
    "# 🔹 Création du dossier de sortie si besoin\n",
    "os.makedirs(output_dir, exist_ok=True)\n",
    "\n",
    "# 🔹 Sauvegarde au format Parquet\n",
    "df.to_parquet(output_parquet_path, index=False)\n",
    "print(f\"✅ Fichier Parquet sauvegardé : {output_parquet_path}\")"
   ]
  }
 ],
 "metadata": {
  "kernelspec": {
   "display_name": ".venv",
   "language": "python",
   "name": "python3"
  },
  "language_info": {
   "codemirror_mode": {
    "name": "ipython",
    "version": 3
   },
   "file_extension": ".py",
   "mimetype": "text/x-python",
   "name": "python",
   "nbconvert_exporter": "python",
   "pygments_lexer": "ipython3",
   "version": "3.12.1"
  }
 },
 "nbformat": 4,
 "nbformat_minor": 5
}
