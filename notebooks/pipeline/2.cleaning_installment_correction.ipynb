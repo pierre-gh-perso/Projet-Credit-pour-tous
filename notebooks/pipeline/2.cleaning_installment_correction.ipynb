{
 "cells": [
  {
   "cell_type": "code",
   "execution_count": 1,
   "id": "10cdd2b7",
   "metadata": {},
   "outputs": [],
   "source": [
    "import pandas as pd\n",
    "import os"
   ]
  },
  {
   "cell_type": "code",
   "execution_count": 2,
   "id": "731d386e",
   "metadata": {},
   "outputs": [
    {
     "name": "stdout",
     "output_type": "stream",
     "text": [
      "Avant correction - Mensualités :\n",
      "count    396030.000000\n",
      "mean      39314.077666\n",
      "std       26412.949444\n",
      "min         285.000000\n",
      "25%       19926.000000\n",
      "50%       34465.000000\n",
      "75%       53906.000000\n",
      "max      153381.000000\n",
      "Name: installment, dtype: float64\n",
      "\n",
      "Après correction - Mensualités :\n",
      "count    396030.000000\n",
      "mean       3931.407767\n",
      "std        2641.294944\n",
      "min          28.500000\n",
      "25%        1992.600000\n",
      "50%        3446.500000\n",
      "75%        5390.600000\n",
      "max       15338.100000\n",
      "Name: installment, dtype: float64\n",
      "\n",
      "✅ Fichier corrigé sauvegardé : ../../data/cleaning/step2_with_monthly_payment_corrected.parquet\n"
     ]
    }
   ],
   "source": [
    "# 🔹 Chemins\n",
    "input_path = \"../../data/cleaning/step1_typed.parquet\"\n",
    "output_path = \"../../data/cleaning/step2_with_monthly_payment_corrected.parquet\"\n",
    "\n",
    "# 🔹 Chargement des données\n",
    "df = pd.read_parquet(input_path)\n",
    "\n",
    "# 🔍 Statistiques avant correction\n",
    "print(\"Avant correction - Mensualités :\")\n",
    "print(df['installment'].describe())\n",
    "\n",
    "# ✅ Correction : division du montant emprunté par 10\n",
    "df['installment'] = df['installment'] / 10\n",
    "\n",
    "# 🔍 Vérification après correction\n",
    "print(\"\\nAprès correction - Mensualités :\")\n",
    "print(df['installment'].describe())\n",
    "\n",
    "# 💾 Sauvegarde\n",
    "df.to_parquet(output_path, index=False)\n",
    "print(f\"\\n✅ Fichier corrigé sauvegardé : {output_path}\")"
   ]
  }
 ],
 "metadata": {
  "kernelspec": {
   "display_name": ".venv",
   "language": "python",
   "name": "python3"
  },
  "language_info": {
   "codemirror_mode": {
    "name": "ipython",
    "version": 3
   },
   "file_extension": ".py",
   "mimetype": "text/x-python",
   "name": "python",
   "nbconvert_exporter": "python",
   "pygments_lexer": "ipython3",
   "version": "3.12.1"
  }
 },
 "nbformat": 4,
 "nbformat_minor": 5
}
