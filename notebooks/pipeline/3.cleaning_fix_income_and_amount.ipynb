{
 "cells": [
  {
   "cell_type": "code",
   "execution_count": 2,
   "id": "44637e99",
   "metadata": {},
   "outputs": [],
   "source": [
    "import pandas as pd\n",
    "import os"
   ]
  },
  {
   "cell_type": "code",
   "execution_count": 3,
   "id": "fdc28bf5",
   "metadata": {},
   "outputs": [
    {
     "name": "stdout",
     "output_type": "stream",
     "text": [
      "Avant correction - Revenu annuel :\n",
      "count    3.960300e+05\n",
      "mean     7.782099e+05\n",
      "std      8.137573e+05\n",
      "min      0.000000e+00\n",
      "25%      4.500000e+05\n",
      "50%      6.463500e+05\n",
      "75%      9.000000e+05\n",
      "max      8.706582e+07\n",
      "Name: annual_inc, dtype: float64\n",
      "\n",
      "Après correction - Revenu annuel :\n",
      "count    3.960300e+05\n",
      "mean     7.782099e+04\n",
      "std      8.137573e+04\n",
      "min      0.000000e+00\n",
      "25%      4.500000e+04\n",
      "50%      6.463500e+04\n",
      "75%      9.000000e+04\n",
      "max      8.706582e+06\n",
      "Name: annual_inc, dtype: float64\n",
      "count    396030.000000\n",
      "mean       6485.082724\n",
      "std        6781.310776\n",
      "min           0.000000\n",
      "25%        3750.000000\n",
      "50%        5386.250000\n",
      "75%        7500.000000\n",
      "max      725548.500000\n",
      "Name: monthly_income, dtype: float64\n",
      "\n",
      "✅ Fichier sauvegardé avec correction des revenus : ../../data/cleaning/step3_income_amount_corrected.parquet\n"
     ]
    }
   ],
   "source": [
    "# 🔹 Chemins\n",
    "input_path = \"../../data/cleaning/step2_with_monthly_payment_corrected.parquet\"\n",
    "output_path = \"../../data/cleaning/step3_income_amount_corrected.parquet\"\n",
    "\n",
    "# 🔹 Chargement des données\n",
    "df = pd.read_parquet(input_path)\n",
    "\n",
    "# 🔍 Vérification rapide des stats (avant correction)\n",
    "print(\"Avant correction - Revenu annuel :\")\n",
    "print(df['annual_inc'].describe())\n",
    "\n",
    "# ✅ Correction : division du revenu annuel par 10\n",
    "df['annual_inc'] = df['annual_inc'] / 10\n",
    "\n",
    "# ✅ Ajout : ajout du revenu mensuel\n",
    "df['monthly_income'] = df['annual_inc'] / 12\n",
    "\n",
    "# 🔍 Vérification rapide après correction\n",
    "print(\"\\nAprès correction - Revenu annuel :\")\n",
    "print(df['annual_inc'].describe())\n",
    "print(df['monthly_income'].describe())\n",
    "\n",
    "# 💾 Sauvegarde au format Parquet\n",
    "df.to_parquet(output_path, index=False)\n",
    "print(f\"\\n✅ Fichier sauvegardé avec correction des revenus : {output_path}\")"
   ]
  }
 ],
 "metadata": {
  "kernelspec": {
   "display_name": ".venv",
   "language": "python",
   "name": "python3"
  },
  "language_info": {
   "codemirror_mode": {
    "name": "ipython",
    "version": 3
   },
   "file_extension": ".py",
   "mimetype": "text/x-python",
   "name": "python",
   "nbconvert_exporter": "python",
   "pygments_lexer": "ipython3",
   "version": "3.12.1"
  }
 },
 "nbformat": 4,
 "nbformat_minor": 5
}
