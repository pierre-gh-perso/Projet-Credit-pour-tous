{
 "cells": [
  {
   "cell_type": "code",
   "execution_count": 2,
   "id": "5fb60149",
   "metadata": {},
   "outputs": [],
   "source": [
    "import pandas as pd\n",
    "import os"
   ]
  },
  {
   "cell_type": "code",
   "execution_count": 3,
   "id": "811317fa",
   "metadata": {},
   "outputs": [
    {
     "name": "stdout",
     "output_type": "stream",
     "text": [
      "Avant correction - Montant emprunté :\n",
      "count    396030.000000\n",
      "mean     141138.880893\n",
      "std       83574.413411\n",
      "min        5000.000000\n",
      "25%       80000.000000\n",
      "50%      120000.000000\n",
      "75%      200000.000000\n",
      "max      400000.000000\n",
      "Name: loan_amnt, dtype: float64\n",
      "\n",
      "Après correction - Montant emprunté :\n",
      "count    396030.000000\n",
      "mean      14113.888089\n",
      "std        8357.441341\n",
      "min         500.000000\n",
      "25%        8000.000000\n",
      "50%       12000.000000\n",
      "75%       20000.000000\n",
      "max       40000.000000\n",
      "Name: loan_amnt, dtype: float64\n",
      "\n",
      "✅ Fichier corrigé sauvegardé : ../../data/cleaning/step4_loan_amnt_corrected.parquet\n"
     ]
    }
   ],
   "source": [
    "# 🔹 Chemins\n",
    "input_path = \"../../data/cleaning/step3_income_amount_corrected.parquet\"\n",
    "output_path = \"../../data/cleaning/step4_loan_amnt_corrected.parquet\"\n",
    "\n",
    "# 🔹 Chargement des données\n",
    "df = pd.read_parquet(input_path)\n",
    "\n",
    "# 🔍 Statistiques avant correction\n",
    "print(\"Avant correction - Montant emprunté :\")\n",
    "print(df['loan_amnt'].describe())\n",
    "\n",
    "# ✅ Correction : division du montant emprunté par 10\n",
    "df['loan_amnt'] = df['loan_amnt'] / 10\n",
    "\n",
    "# 🔍 Vérification après correction\n",
    "print(\"\\nAprès correction - Montant emprunté :\")\n",
    "print(df['loan_amnt'].describe())\n",
    "\n",
    "# 💾 Sauvegarde\n",
    "df.to_parquet(output_path, index=False)\n",
    "print(f\"\\n✅ Fichier corrigé sauvegardé : {output_path}\")"
   ]
  }
 ],
 "metadata": {
  "kernelspec": {
   "display_name": ".venv",
   "language": "python",
   "name": "python3"
  },
  "language_info": {
   "codemirror_mode": {
    "name": "ipython",
    "version": 3
   },
   "file_extension": ".py",
   "mimetype": "text/x-python",
   "name": "python",
   "nbconvert_exporter": "python",
   "pygments_lexer": "ipython3",
   "version": "3.12.1"
  }
 },
 "nbformat": 4,
 "nbformat_minor": 5
}
