{
 "cells": [
  {
   "cell_type": "code",
   "execution_count": 1,
   "id": "5fb60149",
   "metadata": {},
   "outputs": [],
   "source": [
    "import pandas as pd\n",
    "import os"
   ]
  },
  {
   "cell_type": "code",
   "execution_count": 4,
   "id": "9137f6a7",
   "metadata": {},
   "outputs": [
    {
     "name": "stderr",
     "output_type": "stream",
     "text": [
      "C:\\Users\\Pierre\\AppData\\Local\\Temp\\ipykernel_21812\\3700156996.py:24: FutureWarning: use_inf_as_na option is deprecated and will be removed in a future version. Convert inf values to NaN before operating instead.\n",
      "  with pd.option_context('mode.use_inf_as_na', True):  # gérer les divisions par zéro\n"
     ]
    },
    {
     "name": "stdout",
     "output_type": "stream",
     "text": [
      "✅ Fichier sauvegardé avec mensualités recalculées : ../../data/cleaning/step5_installment_corrected.parquet\n"
     ]
    }
   ],
   "source": [
    "# 🔹 Chemins\n",
    "input_path = \"../../data/cleaning/step4_loan_amnt_corrected.parquet\"\n",
    "output_path = \"../../data/cleaning/step5_installment_corrected.parquet\"\n",
    "\n",
    "# 🔹 Chargement du fichier issu de l'étape 1\n",
    "try:\n",
    "    df = pd.read_parquet(input_path)\n",
    "except FileNotFoundError:\n",
    "    print(\"Erreur : le fichier step1_typed.parquet n'a pas été trouvé.\")\n",
    "    exit()\n",
    "\n",
    "# 🔹 Vérification des colonnes nécessaires\n",
    "required_cols = ['loan_amnt', 'int_rate', 'term']\n",
    "if not all(col in df.columns for col in required_cols):\n",
    "    print(\"Erreur : colonnes manquantes pour le calcul des mensualités.\")\n",
    "    exit()\n",
    "\n",
    "# 🔹 Recalcul de la mensualité selon la formule standard\n",
    "M = df['loan_amnt']\n",
    "t = df['int_rate'] /12\n",
    "n = df['term']\n",
    "\n",
    "# 🔹 Formule : m = (M * t) / (1 - (1 + t)**(-n))\n",
    "with pd.option_context('mode.use_inf_as_na', True):  # gérer les divisions par zéro\n",
    "    m = (M * t) / (1 - (1 + t) ** (-n))\n",
    "    df['monthly_payment_calculated'] = m\n",
    "\n",
    "# 🔹 Sauvegarde au format Parquet\n",
    "df.to_parquet(output_path, index=False)\n",
    "print(f\"✅ Fichier sauvegardé avec mensualités recalculées : {output_path}\")"
   ]
  }
 ],
 "metadata": {
  "kernelspec": {
   "display_name": ".venv",
   "language": "python",
   "name": "python3"
  },
  "language_info": {
   "codemirror_mode": {
    "name": "ipython",
    "version": 3
   },
   "file_extension": ".py",
   "mimetype": "text/x-python",
   "name": "python",
   "nbconvert_exporter": "python",
   "pygments_lexer": "ipython3",
   "version": "3.12.1"
  }
 },
 "nbformat": 4,
 "nbformat_minor": 5
}
