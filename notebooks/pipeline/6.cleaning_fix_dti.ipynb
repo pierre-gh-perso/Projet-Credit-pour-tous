{
 "cells": [
  {
   "cell_type": "code",
   "execution_count": 1,
   "id": "6096abd3",
   "metadata": {},
   "outputs": [],
   "source": [
    "import pandas as pd\n",
    "import os"
   ]
  },
  {
   "cell_type": "code",
   "execution_count": 2,
   "id": "c4735292",
   "metadata": {},
   "outputs": [
    {
     "name": "stdout",
     "output_type": "stream",
     "text": [
      "Avant correction - dti :\n",
      "count    396030.000000\n",
      "mean       1562.102119\n",
      "std         925.265762\n",
      "min           0.000000\n",
      "25%         881.000000\n",
      "50%        1552.000000\n",
      "75%        2209.000000\n",
      "max       99990.000000\n",
      "Name: dti, dtype: float64\n",
      "\n",
      "Après correction - dti :\n",
      "count    396030.000000\n",
      "mean         15.621021\n",
      "std           9.252658\n",
      "min           0.000000\n",
      "25%           8.810000\n",
      "50%          15.520000\n",
      "75%          22.090000\n",
      "max         999.900000\n",
      "Name: dti, dtype: float64\n",
      "\n",
      "✅ Fichier corrigé sauvegardé : ../../data/cleaning/step6_dti_corrected.parquet\n"
     ]
    }
   ],
   "source": [
    "# 🔹 Chemins\n",
    "input_path = \"../../data/cleaning/step5_installment_corrected.parquet\"\n",
    "output_path = \"../../data/cleaning/step6_dti_corrected.parquet\"\n",
    "\n",
    "# 🔹 Chargement des données\n",
    "df = pd.read_parquet(input_path)\n",
    "\n",
    "# 📊 Vérification rapide avant correction\n",
    "print(\"Avant correction - dti :\")\n",
    "print(df['dti'].describe())\n",
    "\n",
    "# ✅ Correction du DTI\n",
    "df['dti'] = df['dti'] / 100\n",
    "\n",
    "# 📊 Vérification après correction\n",
    "print(\"\\nAprès correction - dti :\")\n",
    "print(df['dti'].describe())\n",
    "\n",
    "# 💾 Sauvegarde\n",
    "os.makedirs(os.path.dirname(output_path), exist_ok=True)\n",
    "df.to_parquet(output_path, index=False)\n",
    "\n",
    "print(f\"\\n✅ Fichier corrigé sauvegardé : {output_path}\")"
   ]
  }
 ],
 "metadata": {
  "kernelspec": {
   "display_name": ".venv",
   "language": "python",
   "name": "python3"
  },
  "language_info": {
   "codemirror_mode": {
    "name": "ipython",
    "version": 3
   },
   "file_extension": ".py",
   "mimetype": "text/x-python",
   "name": "python",
   "nbconvert_exporter": "python",
   "pygments_lexer": "ipython3",
   "version": "3.12.1"
  }
 },
 "nbformat": 4,
 "nbformat_minor": 5
}
