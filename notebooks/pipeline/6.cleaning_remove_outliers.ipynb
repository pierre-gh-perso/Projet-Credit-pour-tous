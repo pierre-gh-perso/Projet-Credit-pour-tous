{
 "cells": [
  {
   "cell_type": "code",
   "execution_count": 1,
   "id": "198fe6e0",
   "metadata": {},
   "outputs": [],
   "source": [
    "import pandas as pd\n",
    "import os"
   ]
  },
  {
   "cell_type": "code",
   "execution_count": 3,
   "id": "2af5d349",
   "metadata": {},
   "outputs": [
    {
     "name": "stdout",
     "output_type": "stream",
     "text": [
      "✅ Dataset SANS outliers sauvegardé : ../../data/processed/dataset_clean_no_outliers.parquet\n",
      "✅ Dataset AVEC outliers sauvegardé : ../../data/processed/dataset_only_outliers.parquet\n",
      "📊 Taille sans outliers : 366214 lignes\n",
      "📊 Taille avec outliers : 29816 lignes\n"
     ]
    }
   ],
   "source": [
    "# 🔹 Chemins\n",
    "input_path = \"../../data/cleaning/step5_installment_corrected.parquet\"\n",
    "output_dir = \"../../data/processed/\"\n",
    "os.makedirs(output_dir, exist_ok=True)\n",
    "\n",
    "output_path_clean = os.path.join(output_dir, \"dataset_clean_no_outliers.parquet\")\n",
    "output_path_outliers = os.path.join(output_dir, \"dataset_only_outliers.parquet\")\n",
    "\n",
    "# 🔹 Chargement des données\n",
    "df = pd.read_parquet(input_path)\n",
    "\n",
    "# 📌 Recalcul du flag de détection des outliers (1er et 99e percentiles)\n",
    "df['has_outlier'] = (\n",
    "    (df['loan_amnt'] < df['loan_amnt'].quantile(0.01)) | (df['loan_amnt'] > df['loan_amnt'].quantile(0.99)) |\n",
    "    (df['annual_inc'] < df['annual_inc'].quantile(0.01)) | (df['annual_inc'] > df['annual_inc'].quantile(0.99)) |\n",
    "    (df['int_rate'] < df['int_rate'].quantile(0.01)) | (df['int_rate'] > df['int_rate'].quantile(0.99)) |\n",
    "    (df['dti'] < df['dti'].quantile(0.01)) | (df['dti'] > df['dti'].quantile(0.99)) |\n",
    "    (df['installment'] < df['installment'].quantile(0.01)) | (df['installment'] > df['installment'].quantile(0.99)) |\n",
    "    (df['monthly_payment_calculated'] < df['monthly_payment_calculated'].quantile(0.01)) | \n",
    "    (df['monthly_payment_calculated'] > df['monthly_payment_calculated'].quantile(0.99)) |\n",
    "    (df['monthly_income'] < df['monthly_income'].quantile(0.01)) | \n",
    "    (df['monthly_income'] > df['monthly_income'].quantile(0.99))\n",
    ")\n",
    "\n",
    "# 🔄 Séparation des jeux de données\n",
    "df_clean = df[df['has_outlier'] == False].copy()\n",
    "df_outliers = df[df['has_outlier'] == True].copy()\n",
    "\n",
    "# 💾 Sauvegardes\n",
    "df_clean.to_parquet(output_path_clean, index=False)\n",
    "df_outliers.to_parquet(output_path_outliers, index=False)\n",
    "\n",
    "print(f\"✅ Dataset SANS outliers sauvegardé : {output_path_clean}\")\n",
    "print(f\"✅ Dataset AVEC outliers sauvegardé : {output_path_outliers}\")\n",
    "print(f\"📊 Taille sans outliers : {len(df_clean)} lignes\")\n",
    "print(f\"📊 Taille avec outliers : {len(df_outliers)} lignes\")"
   ]
  }
 ],
 "metadata": {
  "kernelspec": {
   "display_name": ".venv",
   "language": "python",
   "name": "python3"
  },
  "language_info": {
   "codemirror_mode": {
    "name": "ipython",
    "version": 3
   },
   "file_extension": ".py",
   "mimetype": "text/x-python",
   "name": "python",
   "nbconvert_exporter": "python",
   "pygments_lexer": "ipython3",
   "version": "3.12.1"
  }
 },
 "nbformat": 4,
 "nbformat_minor": 5
}
