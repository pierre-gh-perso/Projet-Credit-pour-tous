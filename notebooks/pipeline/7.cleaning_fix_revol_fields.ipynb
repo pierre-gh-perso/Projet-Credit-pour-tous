{
 "cells": [
  {
   "cell_type": "code",
   "execution_count": 1,
   "id": "f6bfb4c2",
   "metadata": {},
   "outputs": [],
   "source": [
    "import pandas as pd\n",
    "import os"
   ]
  },
  {
   "cell_type": "code",
   "execution_count": 3,
   "id": "2b5e1786",
   "metadata": {},
   "outputs": [
    {
     "name": "stdout",
     "output_type": "stream",
     "text": [
      "Statistiques revol_util avant correction :\n",
      "count    395754.000000\n",
      "mean        538.331332\n",
      "std         248.238561\n",
      "min           0.000000\n",
      "25%         358.000000\n",
      "50%         548.000000\n",
      "75%         729.000000\n",
      "max        9446.000000\n",
      "Name: revol_util, dtype: float64\n",
      "\n",
      "Statistiques revol_bal avant correction :\n",
      "count    3.960300e+05\n",
      "mean     1.584454e+05\n",
      "std      2.059184e+05\n",
      "min      0.000000e+00\n",
      "25%      6.025000e+04\n",
      "50%      1.118100e+05\n",
      "75%      1.962000e+05\n",
      "max      1.743266e+07\n",
      "Name: revol_bal, dtype: float64\n",
      "\n",
      "Statistiques revol_util après correction :\n",
      "count    395754.000000\n",
      "mean          5.383313\n",
      "std           2.482386\n",
      "min           0.000000\n",
      "25%           3.580000\n",
      "50%           5.480000\n",
      "75%           7.290000\n",
      "max          94.460000\n",
      "Name: revol_util, dtype: float64\n",
      "\n",
      "Statistiques revol_bal après correction :\n",
      "count    3.960300e+05\n",
      "mean     1.584454e+04\n",
      "std      2.059184e+04\n",
      "min      0.000000e+00\n",
      "25%      6.025000e+03\n",
      "50%      1.118100e+04\n",
      "75%      1.962000e+04\n",
      "max      1.743266e+06\n",
      "Name: revol_bal, dtype: float64\n",
      "\n",
      "✅ Fichier corrigé sauvegardé : ../../data/cleaning/step7_revol_util_corrected.parquet\n"
     ]
    }
   ],
   "source": [
    "# 🔹 Chemins\n",
    "input_path = \"../../data/cleaning/step6_dti_corrected.parquet\"\n",
    "output_path = \"../../data/cleaning/step7_revol_util_corrected.parquet\"\n",
    "\n",
    "# 🔹 Chargement des données\n",
    "df = pd.read_parquet(input_path)\n",
    "\n",
    "# 🔍 Vérification rapide avant correction\n",
    "print(\"Statistiques revol_util avant correction :\")\n",
    "print(df['revol_util'].describe())\n",
    "print(\"\\nStatistiques revol_bal avant correction :\")\n",
    "print(df['revol_bal'].describe())\n",
    "\n",
    "# ✅ Correction : division de revol_bal par 10\n",
    "df['revol_bal'] = df['revol_bal'] / 10\n",
    "\n",
    "# ✅ Correction : division de revol_util par 100\n",
    "df['revol_util'] = df['revol_util'] / 100\n",
    "\n",
    "# 🔍 Vérification rapide après correction\n",
    "print(\"\\nStatistiques revol_util après correction :\")\n",
    "print(df['revol_util'].describe())\n",
    "print(\"\\nStatistiques revol_bal après correction :\")\n",
    "print(df['revol_bal'].describe())\n",
    "\n",
    "# 💾 Sauvegarde du fichier corrigé\n",
    "df.to_parquet(output_path, index=False)\n",
    "print(f\"\\n✅ Fichier corrigé sauvegardé : {output_path}\")"
   ]
  }
 ],
 "metadata": {
  "kernelspec": {
   "display_name": ".venv",
   "language": "python",
   "name": "python3"
  },
  "language_info": {
   "codemirror_mode": {
    "name": "ipython",
    "version": 3
   },
   "file_extension": ".py",
   "mimetype": "text/x-python",
   "name": "python",
   "nbconvert_exporter": "python",
   "pygments_lexer": "ipython3",
   "version": "3.12.1"
  }
 },
 "nbformat": 4,
 "nbformat_minor": 5
}
