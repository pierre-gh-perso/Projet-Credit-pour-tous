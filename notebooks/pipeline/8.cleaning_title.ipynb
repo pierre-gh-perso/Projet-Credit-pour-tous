{
 "cells": [
  {
   "cell_type": "code",
   "execution_count": 1,
   "id": "cec2e609",
   "metadata": {},
   "outputs": [],
   "source": [
    "# 📚 Imports\n",
    "import pandas as pd"
   ]
  },
  {
   "cell_type": "code",
   "execution_count": 3,
   "id": "34a4d5b8",
   "metadata": {},
   "outputs": [
    {
     "name": "stdout",
     "output_type": "stream",
     "text": [
      "✅ Fichier sauvegardé dans : ../../data/cleaning/step8_change_title.parquet\n"
     ]
    }
   ],
   "source": [
    "# 📂 Fichiers d'entrée et de sortie\n",
    "input_path = \"../../data/cleaning/step7_revol_util_corrected.parquet\"\n",
    "output_path = \"../../data/cleaning/step8_change_title.parquet\"\n",
    "\n",
    "# 📥 Chargement des données\n",
    "df = pd.read_parquet(input_path)\n",
    "\n",
    "# 🧠 Fonction de classification des métiers\n",
    "def classify_job(title):\n",
    "    if pd.isnull(title) or title.strip() == \"\":\n",
    "        return 'unknown'\n",
    "    title = title.lower()\n",
    "\n",
    "    if any(x in title for x in ['teacher', 'professor', 'educator', 'instructor', 'principal', 'trainer', 'paraprofessional', 'librarian']):\n",
    "        return 'education'\n",
    "    if any(x in title for x in ['nurse', 'doctor', 'health', 'medical', 'therapist', 'pharmacist', 'cna', 'lpn', 'physician',\n",
    "                                 'dental hygienist', 'paramedic', 'caregiver', 'emt', 'lvn', 'dentist', 'kaiser permanente', \n",
    "                                 'phlebotomist', 'specialist']):\n",
    "        return 'health'\n",
    "    if any(x in title for x in ['driver', 'transport', 'truck', 'transit', 'dispatcher', 'carrier', 'delivery', 'usps', 'ups', \n",
    "                                 'postal', 'conductor', 'courier', 'logistics', 'shipping']):\n",
    "        return 'transport'\n",
    "    if any(x in title for x in ['engineer', 'developer', 'it', 'software', 'technician', 'tech', 'machinist', 'maintenance', \n",
    "                                 'programmer', 'assembler', 'lineman', 'scientist', 'chemist', 'planner', 'inspector', 'installer', 'estimator']):\n",
    "        return 'tech'\n",
    "    if any(x in title for x in ['manager', 'director', 'ceo', 'supervisor', 'executive', 'vp', 'president', 'foreman', \n",
    "                                 'superintendent', 'cfo', 'lead', 'partner', 'coo', 'management', 'operations']):\n",
    "        return 'management'\n",
    "    if any(x in title for x in ['police', 'fire', 'military', 'army', 'officer', 'correctional', 'sergeant', 'deputy', \n",
    "                                 'sheriff', 'usaf', 'navy', 'captain', 'law', 'department defense', 'lieutenant', 'detective', \n",
    "                                 'nypd', 'government', 'state california', 'federal government', 'dept veterans affairs', 'coast guard',\n",
    "                                 'social worker', 'air force']):\n",
    "        return 'public_service'\n",
    "    if any(x in title for x in ['retail', 'sales', 'store', 'customer service', 'cashier', 'server', 'associate', 'walmart', \n",
    "                                 'csr', 'clerk', 'bartender', 'agent', 'buyer', 'teller', 'real estate', 'realtor', 'dealer',\n",
    "                                 'target', 'best buy', 'lowes', 'costco', 'macys', 'home depot', 'the home depot', 'verizon', 'verizon wireless', 'att']):\n",
    "        return 'retail'\n",
    "    if any(x in title for x in ['construction', 'contractor', 'electrician', 'mechanic', 'operator', 'laborer', 'custodian', \n",
    "                                 'carpenter', 'assembler', 'painter', 'plumber']):\n",
    "        return 'construction'\n",
    "    if any(x in title for x in ['accountant', 'finance', 'bank', 'analyst', 'auditor', 'paralegal', 'attorney', 'controller', \n",
    "                                 'financial advisor', 'bookkeeper', 'accounting', 'accounts payable', 'accounts receivable', 'billing specialist', \n",
    "                                 'loan processor', 'broker', 'morgan chase', 'cpa', 'chase', 'wells fargo']):\n",
    "        return 'finance'\n",
    "    if any(x in title for x in ['admin', 'assistant', 'administrator', 'secretary', 'receptionist', 'coordinator', 'clerical', \n",
    "                                 'staff', 'processor', 'mailhandler', 'housekeeper', 'housekeeping']):\n",
    "        return 'administration'\n",
    "    if any(x in title for x in ['consultant', 'business', 'owner', 'counselor', 'advisor', 'consulting', 'human resources', 'hr']):\n",
    "        return 'consulting'\n",
    "    if any(x in title for x in ['designer', 'marketing', 'communications', 'producer', 'stylist']):\n",
    "        return 'creative'\n",
    "    if any(x in title for x in ['warehouse', 'production', 'inspector', 'cook', 'chef', 'material handler', 'stocker', 'assembly']):\n",
    "        return 'manual_work'\n",
    "    if 'pastor' in title:\n",
    "        return 'religious'\n",
    "    if 'student' in title:\n",
    "        return 'student'\n",
    "    if 'unemployed' in title:\n",
    "        return 'unemployed'\n",
    "    if 'unknown' in title:\n",
    "        return 'unknown'\n",
    "    return 'other'\n",
    "\n",
    "# 🧼 Application de la fonction\n",
    "df['emp_title_clean'] = df['emp_title'].str.strip().str.lower()\n",
    "df['job_category'] = df['emp_title_clean'].apply(classify_job)\n",
    "df['job_category_encoded'] = df['job_category'].astype('category').cat.codes\n",
    "\n",
    "# 💾 Sauvegarde du fichier nettoyé\n",
    "df.to_parquet(output_path, index=False)\n",
    "print(f\"✅ Fichier sauvegardé dans : {output_path}\")"
   ]
  }
 ],
 "metadata": {
  "kernelspec": {
   "display_name": ".venv",
   "language": "python",
   "name": "python3"
  },
  "language_info": {
   "codemirror_mode": {
    "name": "ipython",
    "version": 3
   },
   "file_extension": ".py",
   "mimetype": "text/x-python",
   "name": "python",
   "nbconvert_exporter": "python",
   "pygments_lexer": "ipython3",
   "version": "3.12.1"
  }
 },
 "nbformat": 4,
 "nbformat_minor": 5
}
