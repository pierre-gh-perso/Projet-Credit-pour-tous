{
 "cells": [
  {
   "cell_type": "code",
   "execution_count": 1,
   "id": "488d1a0f",
   "metadata": {},
   "outputs": [
    {
     "name": "stdout",
     "output_type": "stream",
     "text": [
      "✅ Répartition CSP :\n",
      "csp_category\n",
      "CSP      185577\n",
      "CSP++     84221\n",
      "CSP+      77987\n",
      "CSP-      48245\n",
      "Name: count, dtype: int64\n",
      "✅ Données enregistrées dans : ../../data/cleaning/step9_add_csp_category.parquet\n"
     ]
    }
   ],
   "source": [
    "# 📚 Imports\n",
    "import pandas as pd\n",
    "\n",
    "# 📂 Fichiers\n",
    "input_path = \"../../data/cleaning/step8_change_title.parquet\"\n",
    "output_path = \"../../data/cleaning/step9_add_csp_category.parquet\"\n",
    "\n",
    "# 📥 Chargement\n",
    "df = pd.read_parquet(input_path)\n",
    "\n",
    "# 📏 Définition des CSP selon le revenu mensuel\n",
    "def categorize_csp(income):\n",
    "    if income < 3000:\n",
    "        return 'CSP-'\n",
    "    elif income < 6000:\n",
    "        return 'CSP'\n",
    "    elif income < 8000:\n",
    "        return 'CSP+'\n",
    "    else:\n",
    "        return 'CSP++'\n",
    "\n",
    "df['csp_category'] = df['monthly_income'].apply(categorize_csp)\n",
    "\n",
    "# 🔢 Encodage optionnel\n",
    "df['csp_category_encoded'] = df['csp_category'].astype('category').cat.codes\n",
    "\n",
    "# 📊 Contrôle\n",
    "print(\"✅ Répartition CSP :\")\n",
    "print(df['csp_category'].value_counts())\n",
    "\n",
    "# 💾 Sauvegarde\n",
    "df.to_parquet(output_path, index=False)\n",
    "print(f\"✅ Données enregistrées dans : {output_path}\")\n"
   ]
  }
 ],
 "metadata": {
  "kernelspec": {
   "display_name": ".venv",
   "language": "python",
   "name": "python3"
  },
  "language_info": {
   "codemirror_mode": {
    "name": "ipython",
    "version": 3
   },
   "file_extension": ".py",
   "mimetype": "text/x-python",
   "name": "python",
   "nbconvert_exporter": "python",
   "pygments_lexer": "ipython3",
   "version": "3.12.1"
  }
 },
 "nbformat": 4,
 "nbformat_minor": 5
}
